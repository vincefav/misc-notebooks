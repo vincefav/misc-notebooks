{
 "cells": [
  {
   "cell_type": "markdown",
   "metadata": {},
   "source": [
    "In energy production, the power grid is a a large directed graph of energy consumers and producers. At times you need to cut at certain nodes and trim demand because you cannot supply enough of a load.\n",
    "\n",
    "In DailyProgrammeropolis, all buildings are connected to the grid and all consume power to varying degrees. Some generate power because they have installed on-site generation and sell the excess to the grid, some do not.\n",
    "\n",
    "The scenario you're facing is this: due to a fault with the bulk power generation facility not local to DailyProgrammerololis, you must trim the power grid. You have connectivity data, and power consumption and production data. Your goal with this challenge is to maximize the number of powered nodes with the generated energy you have. Note that when you cut off a node, you run the risk the downstream ones will loose power, too, if they are no longer connected. This is how you'll shed demand, by selectively cutting the graph. You can make as many cuts as you want (there is no restriction on this). "
   ]
  },
  {
   "cell_type": "code",
   "execution_count": 12,
   "metadata": {
    "collapsed": true
   },
   "outputs": [],
   "source": [
    "inputs = \"\"\"0 1.926 0.0\n",
    "1 36.812 0.0\n",
    "2 1.007 0.0\n",
    "3 6.812 0.0\n",
    "4 1.589 0.0\n",
    "5 1.002 0.0\n",
    "6 1.531 0.0\n",
    "7 2.810 0.0\n",
    "8 1.246 0.0\n",
    "9 5.816 0.0\n",
    "10 1.167 0.0\n",
    "11 1.357 0.0\n",
    "12 1.585 0.0\n",
    "13 1.117 0.0\n",
    "14 3.110 1.553\n",
    "15 2.743 0.0\n",
    "16 1.282 0.0\n",
    "17 1.154 0.0\n",
    "18 1.160 0.0\n",
    "19 1.253 0.0\n",
    "20 1.086 0.0\n",
    "21 1.148 0.0\n",
    "22 1.357 0.0\n",
    "23 2.161 0.0\n",
    "24 1.260 0.0\n",
    "25 2.241 0.0\n",
    "26 2.970 0.0\n",
    "27 6.972 0.0\n",
    "28 2.443 0.0\n",
    "29 1.255 0.0\n",
    "30 1.844 0.0\n",
    "31 2.503 0.0\n",
    "32 1.054 0.0\n",
    "33 1.368 0.0\n",
    "34 1.011 1.601\n",
    "35 1.432 0.0\n",
    "36 1.061 1.452\n",
    "37 1.432 0.0\n",
    "38 2.011 0.0\n",
    "39 1.232 0.0\n",
    "40 1.767 0.0\n",
    "41 1.590 0.0\n",
    "42 2.453 0.0\n",
    "43 1.972 0.0\n",
    "44 1.445 0.0\n",
    "45 1.197 0.0\n",
    "46 2.497 0.0\n",
    "47 3.510 0.0\n",
    "48 12.510 0.0\n",
    "49 3.237 0.0\n",
    "50 1.287 0.0\n",
    "51 1.613 0.0\n",
    "52 1.776 0.0\n",
    "53 2.013 0.0\n",
    "54 1.079 0.0\n",
    "55 1.345 1.230\n",
    "56 1.613 0.0\n",
    "57 2.243 0.0\n",
    "58 1.209 0.0\n",
    "59 1.429 0.0\n",
    "60 7.709 0.0\n",
    "61 1.282 8.371\n",
    "62 1.036 0.0\n",
    "63 1.086 0.0\n",
    "64 1.087 0.0\n",
    "65 1.000 0.0\n",
    "66 1.140 0.0\n",
    "67 1.210 0.0\n",
    "68 1.080 0.0\n",
    "69 1.087 0.0\n",
    "70 1.399 0.0\n",
    "71 2.681 0.0\n",
    "72 1.693 0.0\n",
    "73 1.266 0.0\n",
    "74 1.234 0.0\n",
    "75 2.755 0.0\n",
    "76 2.173 0.0\n",
    "77 1.093 0.0\n",
    "78 1.005 0.0\n",
    "79 1.420 0.0\n",
    "80 1.135 0.0\n",
    "81 1.101 0.0\n",
    "82 1.187 1.668\n",
    "83 2.334 0.0\n",
    "84 2.054 3.447\n",
    "85 1.711 0.0\n",
    "86 2.083 0.0\n",
    "87 2.724 0.0\n",
    "88 1.654 0.0\n",
    "89 1.608 0.0\n",
    "90 1.033 17.707\n",
    "91 1.017 0.0\n",
    "92 1.528 0.0\n",
    "93 1.278 0.0\n",
    "94 1.128 0.0\n",
    "95 1.508 1.149\n",
    "96 5.123 0.0\n",
    "97 2.000 0.0\n",
    "98 1.426 0.0\n",
    "99 1.802 0.0\n",
    "100 2.995 98.606\"\"\".split('\\n')"
   ]
  },
  {
   "cell_type": "code",
   "execution_count": 13,
   "metadata": {
    "collapsed": false
   },
   "outputs": [],
   "source": [
    "import pandas as pd\n",
    "inputs = [i.split() for i in inputs]\n",
    "inputs = pd.DataFrame(inputs)"
   ]
  },
  {
   "cell_type": "code",
   "execution_count": 17,
   "metadata": {
    "collapsed": false
   },
   "outputs": [],
   "source": [
    "inputs = inputs.astype(float)"
   ]
  },
  {
   "cell_type": "code",
   "execution_count": null,
   "metadata": {
    "collapsed": true
   },
   "outputs": [],
   "source": []
  }
 ],
 "metadata": {
  "kernelspec": {
   "display_name": "Python 3",
   "language": "python",
   "name": "python3"
  },
  "language_info": {
   "codemirror_mode": {
    "name": "ipython",
    "version": 3
   },
   "file_extension": ".py",
   "mimetype": "text/x-python",
   "name": "python",
   "nbconvert_exporter": "python",
   "pygments_lexer": "ipython3",
   "version": "3.6.0"
  }
 },
 "nbformat": 4,
 "nbformat_minor": 2
}
