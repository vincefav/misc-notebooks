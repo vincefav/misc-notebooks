{
 "cells": [
  {
   "cell_type": "code",
   "execution_count": 1,
   "metadata": {
    "collapsed": true
   },
   "outputs": [],
   "source": [
    "import pandas as pd\n",
    "from sklearn.decomposition import FactorAnalysis\n",
    "\n",
    "import seaborn as sns\n",
    "import matplotlib.pyplot as plt\n",
    "%pylab inline"
   ]
  },
  {
   "cell_type": "code",
   "execution_count": 23,
   "metadata": {
    "collapsed": false
   },
   "outputs": [],
   "source": [
    "data = pd.read_csv('Activities and happiness.csv')"
   ]
  },
  {
   "cell_type": "code",
   "execution_count": 5,
   "metadata": {
    "collapsed": false
   },
   "outputs": [],
   "source": [
    "data = data['Pleasure Meaning Engagement Happiness'.split()]"
   ]
  },
  {
   "cell_type": "code",
   "execution_count": 7,
   "metadata": {
    "collapsed": false
   },
   "outputs": [],
   "source": [
    "from sklearn.decomposition import PCA"
   ]
  },
  {
   "cell_type": "code",
   "execution_count": 9,
   "metadata": {
    "collapsed": true
   },
   "outputs": [],
   "source": [
    "pca = PCA(n_components=4).fit(data)"
   ]
  },
  {
   "cell_type": "code",
   "execution_count": 12,
   "metadata": {
    "collapsed": false
   },
   "outputs": [
    {
     "data": {
      "text/plain": [
       "0.9406644549412742"
      ]
     },
     "execution_count": 12,
     "metadata": {},
     "output_type": "execute_result"
    }
   ],
   "source": [
    "pca.explained_variance_ratio_[:2].sum()"
   ]
  },
  {
   "cell_type": "code",
   "execution_count": 14,
   "metadata": {
    "collapsed": true
   },
   "outputs": [],
   "source": [
    "fa = FactorAnalysis(n_components=3).fit(data)"
   ]
  },
  {
   "cell_type": "code",
   "execution_count": 15,
   "metadata": {
    "collapsed": false
   },
   "outputs": [
    {
     "data": {
      "text/html": [
       "<div>\n",
       "<style scoped>\n",
       "    .dataframe tbody tr th:only-of-type {\n",
       "        vertical-align: middle;\n",
       "    }\n",
       "\n",
       "    .dataframe tbody tr th {\n",
       "        vertical-align: top;\n",
       "    }\n",
       "\n",
       "    .dataframe thead th {\n",
       "        text-align: right;\n",
       "    }\n",
       "</style>\n",
       "<table border=\"1\" class=\"dataframe\">\n",
       "  <thead>\n",
       "    <tr style=\"text-align: right;\">\n",
       "      <th></th>\n",
       "      <th>0</th>\n",
       "      <th>1</th>\n",
       "      <th>2</th>\n",
       "    </tr>\n",
       "  </thead>\n",
       "  <tbody>\n",
       "    <tr>\n",
       "      <th>Pleasure</th>\n",
       "      <td>1.063794</td>\n",
       "      <td>-0.191738</td>\n",
       "      <td>0.097041</td>\n",
       "    </tr>\n",
       "    <tr>\n",
       "      <th>Meaning</th>\n",
       "      <td>0.758770</td>\n",
       "      <td>0.633334</td>\n",
       "      <td>-0.194812</td>\n",
       "    </tr>\n",
       "    <tr>\n",
       "      <th>Engagement</th>\n",
       "      <td>0.911248</td>\n",
       "      <td>0.382333</td>\n",
       "      <td>0.250912</td>\n",
       "    </tr>\n",
       "    <tr>\n",
       "      <th>Happiness</th>\n",
       "      <td>0.886234</td>\n",
       "      <td>-0.086863</td>\n",
       "      <td>-0.155073</td>\n",
       "    </tr>\n",
       "  </tbody>\n",
       "</table>\n",
       "</div>"
      ],
      "text/plain": [
       "                   0         1         2\n",
       "Pleasure    1.063794 -0.191738  0.097041\n",
       "Meaning     0.758770  0.633334 -0.194812\n",
       "Engagement  0.911248  0.382333  0.250912\n",
       "Happiness   0.886234 -0.086863 -0.155073"
      ]
     },
     "execution_count": 15,
     "metadata": {},
     "output_type": "execute_result"
    }
   ],
   "source": [
    "factors = pd.DataFrame(fa.components_, columns=data.columns).T\n",
    "factors"
   ]
  },
  {
   "cell_type": "code",
   "execution_count": 20,
   "metadata": {
    "collapsed": false
   },
   "outputs": [
    {
     "data": {
      "text/plain": [
       "<matplotlib.axes._subplots.AxesSubplot at 0x1f0ccf92d68>"
      ]
     },
     "execution_count": 20,
     "metadata": {},
     "output_type": "execute_result"
    },
    {
     "data": {
      "image/png": "[encoded data removed]",
      "text/plain": [
       "<Figure size 432x288 with 2 Axes>"
      ]
     },
     "metadata": {},
     "output_type": "display_data"
    }
   ],
   "source": [
    "sns.heatmap(data.corr(), cmap='seismic_r', annot=True, center=0)"
   ]
  },
  {
   "cell_type": "code",
   "execution_count": 25,
   "metadata": {
    "collapsed": false
   },
   "outputs": [],
   "source": [
    "data = pd.read_csv('Activities and happiness.csv')\n",
    "data = data['Behavior Pleasure Meaning Engagement Happiness'.split()]\n",
    "\n",
    "data['Rank'] = ((.5*data['Pleasure']) + (.5*data['Happiness']) + data['Meaning'])"
   ]
  },
  {
   "cell_type": "code",
   "execution_count": 27,
   "metadata": {
    "collapsed": false
   },
   "outputs": [
    {
     "data": {
      "text/html": [
       "<div>\n",
       "<style scoped>\n",
       "    .dataframe tbody tr th:only-of-type {\n",
       "        vertical-align: middle;\n",
       "    }\n",
       "\n",
       "    .dataframe tbody tr th {\n",
       "        vertical-align: top;\n",
       "    }\n",
       "\n",
       "    .dataframe thead th {\n",
       "        text-align: right;\n",
       "    }\n",
       "</style>\n",
       "<table border=\"1\" class=\"dataframe\">\n",
       "  <thead>\n",
       "    <tr style=\"text-align: right;\">\n",
       "      <th></th>\n",
       "      <th>Behavior</th>\n",
       "      <th>Pleasure</th>\n",
       "      <th>Meaning</th>\n",
       "      <th>Engagement</th>\n",
       "      <th>Happiness</th>\n",
       "      <th>Rank</th>\n",
       "    </tr>\n",
       "  </thead>\n",
       "  <tbody>\n",
       "    <tr>\n",
       "      <th>0</th>\n",
       "      <td>Sex/making love</td>\n",
       "      <td>8.55</td>\n",
       "      <td>7.64</td>\n",
       "      <td>8.09</td>\n",
       "      <td>8.55</td>\n",
       "      <td>16.190</td>\n",
       "    </tr>\n",
       "    <tr>\n",
       "      <th>3</th>\n",
       "      <td>Meditating/religious activities</td>\n",
       "      <td>6.58</td>\n",
       "      <td>7.47</td>\n",
       "      <td>6.79</td>\n",
       "      <td>7.53</td>\n",
       "      <td>14.525</td>\n",
       "    </tr>\n",
       "    <tr>\n",
       "      <th>2</th>\n",
       "      <td>Care-giving/volunteering</td>\n",
       "      <td>6.55</td>\n",
       "      <td>7.09</td>\n",
       "      <td>7.00</td>\n",
       "      <td>7.55</td>\n",
       "      <td>14.140</td>\n",
       "    </tr>\n",
       "    <tr>\n",
       "      <th>6</th>\n",
       "      <td>Childcare/playing with children</td>\n",
       "      <td>6.53</td>\n",
       "      <td>6.76</td>\n",
       "      <td>6.41</td>\n",
       "      <td>7.41</td>\n",
       "      <td>13.730</td>\n",
       "    </tr>\n",
       "    <tr>\n",
       "      <th>4</th>\n",
       "      <td>Hobbies/arts/crafts</td>\n",
       "      <td>7.05</td>\n",
       "      <td>6.51</td>\n",
       "      <td>7.23</td>\n",
       "      <td>7.19</td>\n",
       "      <td>13.630</td>\n",
       "    </tr>\n",
       "    <tr>\n",
       "      <th>1</th>\n",
       "      <td>Drinking alcohol/partying</td>\n",
       "      <td>7.49</td>\n",
       "      <td>5.86</td>\n",
       "      <td>7.16</td>\n",
       "      <td>7.76</td>\n",
       "      <td>13.485</td>\n",
       "    </tr>\n",
       "    <tr>\n",
       "      <th>8</th>\n",
       "      <td>Exercising/sports</td>\n",
       "      <td>6.48</td>\n",
       "      <td>6.33</td>\n",
       "      <td>6.78</td>\n",
       "      <td>6.98</td>\n",
       "      <td>13.060</td>\n",
       "    </tr>\n",
       "    <tr>\n",
       "      <th>7</th>\n",
       "      <td>Socialiazing/talking/chatting</td>\n",
       "      <td>6.95</td>\n",
       "      <td>5.84</td>\n",
       "      <td>6.50</td>\n",
       "      <td>7.27</td>\n",
       "      <td>12.950</td>\n",
       "    </tr>\n",
       "    <tr>\n",
       "      <th>5</th>\n",
       "      <td>Gardening/outdoor housework</td>\n",
       "      <td>6.67</td>\n",
       "      <td>6.00</td>\n",
       "      <td>8.00</td>\n",
       "      <td>7.00</td>\n",
       "      <td>12.835</td>\n",
       "    </tr>\n",
       "    <tr>\n",
       "      <th>9</th>\n",
       "      <td>Listening to music/podcasts</td>\n",
       "      <td>7.38</td>\n",
       "      <td>5.19</td>\n",
       "      <td>6.25</td>\n",
       "      <td>7.38</td>\n",
       "      <td>12.570</td>\n",
       "    </tr>\n",
       "    <tr>\n",
       "      <th>15</th>\n",
       "      <td>Pet care/playing with animals</td>\n",
       "      <td>5.54</td>\n",
       "      <td>5.77</td>\n",
       "      <td>4.92</td>\n",
       "      <td>6.62</td>\n",
       "      <td>11.850</td>\n",
       "    </tr>\n",
       "    <tr>\n",
       "      <th>12</th>\n",
       "      <td>Shopping/errands</td>\n",
       "      <td>6.16</td>\n",
       "      <td>5.21</td>\n",
       "      <td>5.75</td>\n",
       "      <td>7.11</td>\n",
       "      <td>11.845</td>\n",
       "    </tr>\n",
       "    <tr>\n",
       "      <th>11</th>\n",
       "      <td>Reading (for pleasure not studying)</td>\n",
       "      <td>6.41</td>\n",
       "      <td>5.25</td>\n",
       "      <td>6.27</td>\n",
       "      <td>6.37</td>\n",
       "      <td>11.640</td>\n",
       "    </tr>\n",
       "    <tr>\n",
       "      <th>13</th>\n",
       "      <td>Eating/snacking/drinking tea/coffee</td>\n",
       "      <td>6.37</td>\n",
       "      <td>5.00</td>\n",
       "      <td>5.26</td>\n",
       "      <td>6.73</td>\n",
       "      <td>11.550</td>\n",
       "    </tr>\n",
       "    <tr>\n",
       "      <th>16</th>\n",
       "      <td>Lectures/class/lab</td>\n",
       "      <td>4.97</td>\n",
       "      <td>6.05</td>\n",
       "      <td>5.79</td>\n",
       "      <td>5.80</td>\n",
       "      <td>11.435</td>\n",
       "    </tr>\n",
       "    <tr>\n",
       "      <th>10</th>\n",
       "      <td>Gaming/video games</td>\n",
       "      <td>6.82</td>\n",
       "      <td>4.48</td>\n",
       "      <td>6.72</td>\n",
       "      <td>7.07</td>\n",
       "      <td>11.425</td>\n",
       "    </tr>\n",
       "    <tr>\n",
       "      <th>18</th>\n",
       "      <td>Studying/working on education</td>\n",
       "      <td>4.62</td>\n",
       "      <td>6.20</td>\n",
       "      <td>5.84</td>\n",
       "      <td>5.61</td>\n",
       "      <td>11.315</td>\n",
       "    </tr>\n",
       "    <tr>\n",
       "      <th>14</th>\n",
       "      <td>Cooking/preparing food</td>\n",
       "      <td>5.85</td>\n",
       "      <td>5.01</td>\n",
       "      <td>5.61</td>\n",
       "      <td>6.65</td>\n",
       "      <td>11.260</td>\n",
       "    </tr>\n",
       "    <tr>\n",
       "      <th>17</th>\n",
       "      <td>Watching tv/movies</td>\n",
       "      <td>6.31</td>\n",
       "      <td>4.43</td>\n",
       "      <td>5.64</td>\n",
       "      <td>6.65</td>\n",
       "      <td>10.910</td>\n",
       "    </tr>\n",
       "    <tr>\n",
       "      <th>19</th>\n",
       "      <td>Sleeping/resting/relaxing</td>\n",
       "      <td>6.12</td>\n",
       "      <td>4.48</td>\n",
       "      <td>4.49</td>\n",
       "      <td>6.22</td>\n",
       "      <td>10.650</td>\n",
       "    </tr>\n",
       "    <tr>\n",
       "      <th>21</th>\n",
       "      <td>Texting/emailing</td>\n",
       "      <td>5.34</td>\n",
       "      <td>5.03</td>\n",
       "      <td>5.66</td>\n",
       "      <td>5.76</td>\n",
       "      <td>10.580</td>\n",
       "    </tr>\n",
       "    <tr>\n",
       "      <th>20</th>\n",
       "      <td>Paid work</td>\n",
       "      <td>4.82</td>\n",
       "      <td>5.21</td>\n",
       "      <td>5.72</td>\n",
       "      <td>5.81</td>\n",
       "      <td>10.525</td>\n",
       "    </tr>\n",
       "    <tr>\n",
       "      <th>22</th>\n",
       "      <td>Admin/organizing/finances</td>\n",
       "      <td>4.87</td>\n",
       "      <td>4.90</td>\n",
       "      <td>5.04</td>\n",
       "      <td>6.11</td>\n",
       "      <td>10.390</td>\n",
       "    </tr>\n",
       "    <tr>\n",
       "      <th>23</th>\n",
       "      <td>Internet/on computer (non-specific)</td>\n",
       "      <td>5.48</td>\n",
       "      <td>4.22</td>\n",
       "      <td>5.32</td>\n",
       "      <td>5.95</td>\n",
       "      <td>9.935</td>\n",
       "    </tr>\n",
       "    <tr>\n",
       "      <th>25</th>\n",
       "      <td>Commuting/travelling</td>\n",
       "      <td>4.72</td>\n",
       "      <td>4.48</td>\n",
       "      <td>4.43</td>\n",
       "      <td>5.88</td>\n",
       "      <td>9.780</td>\n",
       "    </tr>\n",
       "    <tr>\n",
       "      <th>24</th>\n",
       "      <td>Washing/dressing/grooming</td>\n",
       "      <td>5.04</td>\n",
       "      <td>3.78</td>\n",
       "      <td>4.07</td>\n",
       "      <td>6.01</td>\n",
       "      <td>9.305</td>\n",
       "    </tr>\n",
       "    <tr>\n",
       "      <th>27</th>\n",
       "      <td>Housework/chores/DIY</td>\n",
       "      <td>4.03</td>\n",
       "      <td>4.24</td>\n",
       "      <td>4.47</td>\n",
       "      <td>5.54</td>\n",
       "      <td>9.025</td>\n",
       "    </tr>\n",
       "    <tr>\n",
       "      <th>28</th>\n",
       "      <td>Facebook</td>\n",
       "      <td>4.91</td>\n",
       "      <td>3.30</td>\n",
       "      <td>4.45</td>\n",
       "      <td>5.40</td>\n",
       "      <td>8.455</td>\n",
       "    </tr>\n",
       "    <tr>\n",
       "      <th>26</th>\n",
       "      <td>Sick/healthcare</td>\n",
       "      <td>3.59</td>\n",
       "      <td>4.45</td>\n",
       "      <td>4.68</td>\n",
       "      <td>3.82</td>\n",
       "      <td>8.155</td>\n",
       "    </tr>\n",
       "  </tbody>\n",
       "</table>\n",
       "</div>"
      ],
      "text/plain": [
       "                               Behavior  Pleasure  Meaning  Engagement  \\\n",
       "0                       Sex/making love      8.55     7.64        8.09   \n",
       "3       Meditating/religious activities      6.58     7.47        6.79   \n",
       "2              Care-giving/volunteering      6.55     7.09        7.00   \n",
       "6       Childcare/playing with children      6.53     6.76        6.41   \n",
       "4                   Hobbies/arts/crafts      7.05     6.51        7.23   \n",
       "1             Drinking alcohol/partying      7.49     5.86        7.16   \n",
       "8                     Exercising/sports      6.48     6.33        6.78   \n",
       "7         Socialiazing/talking/chatting      6.95     5.84        6.50   \n",
       "5           Gardening/outdoor housework      6.67     6.00        8.00   \n",
       "9           Listening to music/podcasts      7.38     5.19        6.25   \n",
       "15        Pet care/playing with animals      5.54     5.77        4.92   \n",
       "12                     Shopping/errands      6.16     5.21        5.75   \n",
       "11  Reading (for pleasure not studying)      6.41     5.25        6.27   \n",
       "13  Eating/snacking/drinking tea/coffee      6.37     5.00        5.26   \n",
       "16                   Lectures/class/lab      4.97     6.05        5.79   \n",
       "10                   Gaming/video games      6.82     4.48        6.72   \n",
       "18        Studying/working on education      4.62     6.20        5.84   \n",
       "14               Cooking/preparing food      5.85     5.01        5.61   \n",
       "17                   Watching tv/movies      6.31     4.43        5.64   \n",
       "19            Sleeping/resting/relaxing      6.12     4.48        4.49   \n",
       "21                     Texting/emailing      5.34     5.03        5.66   \n",
       "20                            Paid work      4.82     5.21        5.72   \n",
       "22            Admin/organizing/finances      4.87     4.90        5.04   \n",
       "23  Internet/on computer (non-specific)      5.48     4.22        5.32   \n",
       "25                 Commuting/travelling      4.72     4.48        4.43   \n",
       "24            Washing/dressing/grooming      5.04     3.78        4.07   \n",
       "27                 Housework/chores/DIY      4.03     4.24        4.47   \n",
       "28                             Facebook      4.91     3.30        4.45   \n",
       "26                      Sick/healthcare      3.59     4.45        4.68   \n",
       "\n",
       "    Happiness    Rank  \n",
       "0        8.55  16.190  \n",
       "3        7.53  14.525  \n",
       "2        7.55  14.140  \n",
       "6        7.41  13.730  \n",
       "4        7.19  13.630  \n",
       "1        7.76  13.485  \n",
       "8        6.98  13.060  \n",
       "7        7.27  12.950  \n",
       "5        7.00  12.835  \n",
       "9        7.38  12.570  \n",
       "15       6.62  11.850  \n",
       "12       7.11  11.845  \n",
       "11       6.37  11.640  \n",
       "13       6.73  11.550  \n",
       "16       5.80  11.435  \n",
       "10       7.07  11.425  \n",
       "18       5.61  11.315  \n",
       "14       6.65  11.260  \n",
       "17       6.65  10.910  \n",
       "19       6.22  10.650  \n",
       "21       5.76  10.580  \n",
       "20       5.81  10.525  \n",
       "22       6.11  10.390  \n",
       "23       5.95   9.935  \n",
       "25       5.88   9.780  \n",
       "24       6.01   9.305  \n",
       "27       5.54   9.025  \n",
       "28       5.40   8.455  \n",
       "26       3.82   8.155  "
      ]
     },
     "execution_count": 27,
     "metadata": {},
     "output_type": "execute_result"
    }
   ],
   "source": [
    "data.sort_values('Rank', ascending=False)"
   ]
  },
  {
   "cell_type": "code",
   "execution_count": null,
   "metadata": {
    "collapsed": true
   },
   "outputs": [],
   "source": []
  }
 ],
 "metadata": {
  "anaconda-cloud": {},
  "kernelspec": {
   "display_name": "Python [conda env:Anaconda3]",
   "language": "python",
   "name": "conda-env-Anaconda3-py"
  },
  "language_info": {
   "codemirror_mode": {
    "name": "ipython",
    "version": 3
   },
   "file_extension": ".py",
   "mimetype": "text/x-python",
   "name": "python",
   "nbconvert_exporter": "python",
   "pygments_lexer": "ipython3",
   "version": "3.6.2"
  }
 },
 "nbformat": 4,
 "nbformat_minor": 2
}
