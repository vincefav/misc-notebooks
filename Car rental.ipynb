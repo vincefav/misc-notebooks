{
 "cells": [
  {
   "cell_type": "markdown",
   "metadata": {},
   "source": [
    "https://www.reddit.com/r/dailyprogrammer/comments/7btzrw/20171108_challenge_339_intermediate_a_car_renting/\n",
    "\n",
    "A carriage company is renting cars and there is a particular car for which the interest is the highest so the company decides to book the requests one year in advance. We represent a request with a tuple (x, y) where x is the first day of the renting and y is the last. Your goal is to come up with an optimum strategy where you serve the most number of requests."
   ]
  },
  {
   "cell_type": "markdown",
   "metadata": {},
   "source": [
    "The first line of the input will be n the number of requests. The following two lines will consist of n numbers for the starting day of the renting, followed by another n numbers for the last day of the renting corresponding. For all lines 0 < x i < y i <= 365 inequality holds, where i=1, 2, ..., n."
   ]
  },
  {
   "cell_type": "code",
   "execution_count": 33,
   "metadata": {
    "collapsed": true
   },
   "outputs": [],
   "source": [
    "inputs = \"\"\"10  \n",
    "1 12 5 12 13 40 30 22 70 19  \n",
    "23 13 10 29 25 66 35 33 100 65\"\"\""
   ]
  },
  {
   "cell_type": "code",
   "execution_count": 58,
   "metadata": {
    "collapsed": true
   },
   "outputs": [],
   "source": [
    "inputs = \"\"\"10  \n",
    "1 2 5 10 13 14 29 22 70 19  \n",
    "10 13 10 21 14 30 35 33 99 80\"\"\""
   ]
  },
  {
   "cell_type": "code",
   "execution_count": 59,
   "metadata": {
    "collapsed": false
   },
   "outputs": [
    {
     "data": {
      "text/plain": [
       "True"
      ]
     },
     "execution_count": 59,
     "metadata": {},
     "output_type": "execute_result"
    }
   ],
   "source": [
    "# Process the data\n",
    "\n",
    "inputs = inputs.split('\\n')\n",
    "inputs = [i.strip() for i in inputs]\n",
    "first_days = [int(i) for i in inputs[1].split()]\n",
    "last_days = [int(i) for i in inputs[2].split()]\n",
    "\n",
    "len(first_days) == len(last_days)"
   ]
  },
  {
   "cell_type": "code",
   "execution_count": 60,
   "metadata": {
    "collapsed": false
   },
   "outputs": [
    {
     "data": {
      "text/plain": [
       "[[(1, 10), 9],\n",
       " [(2, 13), 11],\n",
       " [(5, 10), 5],\n",
       " [(10, 21), 11],\n",
       " [(13, 14), 1],\n",
       " [(14, 30), 16],\n",
       " [(29, 35), 6],\n",
       " [(22, 33), 11],\n",
       " [(70, 99), 29],\n",
       " [(19, 80), 61]]"
      ]
     },
     "execution_count": 60,
     "metadata": {},
     "output_type": "execute_result"
    }
   ],
   "source": [
    "requests = []\n",
    "\n",
    "# Each item is a tuple of days followed by the length of the rental\n",
    "for i in range(len(first_days)):\n",
    "    requests.append([(first_days[i], last_days[i]),\n",
    "                    last_days[i] - first_days[i]])\n",
    "    \n",
    "requests"
   ]
  },
  {
   "cell_type": "code",
   "execution_count": 45,
   "metadata": {
    "collapsed": false
   },
   "outputs": [],
   "source": [
    "most_days = 0\n",
    "\n",
    "for i in requests:\n",
    "    last = i[0][1]\n",
    "    days = i[1]\n",
    "    if days > most_days:\n",
    "        most_days = days\n",
    "        rentals = [i[0]]\n",
    "    for j in requests:\n",
    "        if j[0][0] >= last:\n",
    "            last = j[0][0]\n",
    "            days += j[1]\n",
    "            if days > most_days:\n",
    "                most_days = days\n",
    "                if j[0] not in rentals:\n",
    "                    rentals.append(j[0])"
   ]
  },
  {
   "cell_type": "code",
   "execution_count": 46,
   "metadata": {
    "collapsed": false
   },
   "outputs": [
    {
     "data": {
      "text/plain": [
       "[(1, 10), (10, 21), (13, 14), (14, 30), (29, 35), (70, 99)]"
      ]
     },
     "execution_count": 46,
     "metadata": {},
     "output_type": "execute_result"
    }
   ],
   "source": [
    "rentals"
   ]
  },
  {
   "cell_type": "code",
   "execution_count": 41,
   "metadata": {
    "collapsed": false
   },
   "outputs": [
    {
     "data": {
      "text/plain": [
       "{(1, 23), (40, 66), (70, 100)}"
      ]
     },
     "execution_count": 41,
     "metadata": {},
     "output_type": "execute_result"
    }
   ],
   "source": [
    "set(rentals)"
   ]
  },
  {
   "cell_type": "code",
   "execution_count": 65,
   "metadata": {
    "collapsed": false
   },
   "outputs": [
    {
     "name": "stdout",
     "output_type": "stream",
     "text": [
      "latest: 10\n",
      "latest j: 10\n",
      "latest j: 29\n",
      "latest j: 70\n",
      "latest: 13\n",
      "latest j: 13\n",
      "latest j: 14\n",
      "latest j: 70\n",
      "latest: 10\n",
      "latest j: 10\n",
      "latest j: 29\n",
      "latest j: 70\n",
      "latest: 21\n",
      "latest j: 29\n",
      "latest j: 70\n",
      "latest: 14\n",
      "latest j: 14\n",
      "latest j: 70\n",
      "latest: 30\n",
      "latest j: 70\n",
      "latest: 35\n",
      "latest j: 70\n",
      "latest: 33\n",
      "latest j: 70\n",
      "latest: 99\n",
      "latest: 80\n"
     ]
    }
   ],
   "source": [
    "rental_options = []\n",
    "\n",
    "for i in requests:\n",
    "    rental_schedule = [i]\n",
    "    \n",
    "    latest = i[0][1]\n",
    "    print('latest:', latest)\n",
    "    \n",
    "    remaining_options = # FIRST DAY OF EACH OPTION GREATER THAN LATEST\n",
    "    \n",
    "    while remaining_options:\n",
    "        # Pick earliest day\n",
    "        # Pop that value\n",
    "        # Remove all days earlier\n",
    "    \n",
    "    for iix, j in enumerate(requests):\n",
    "        if j[0][0] >= latest and j != i:\n",
    "            print('latest j:', j[0][0])\n",
    "            latest = j[0][1]\n",
    "#             requests_temp.pop(ix)"
   ]
  },
  {
   "cell_type": "code",
   "execution_count": null,
   "metadata": {
    "collapsed": true
   },
   "outputs": [],
   "source": []
  }
 ],
 "metadata": {
  "kernelspec": {
   "display_name": "Python 3",
   "language": "python",
   "name": "python3"
  },
  "language_info": {
   "codemirror_mode": {
    "name": "ipython",
    "version": 3
   },
   "file_extension": ".py",
   "mimetype": "text/x-python",
   "name": "python",
   "nbconvert_exporter": "python",
   "pygments_lexer": "ipython3",
   "version": "3.6.0"
  }
 },
 "nbformat": 4,
 "nbformat_minor": 2
}
