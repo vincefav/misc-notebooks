{
 "cells": [
  {
   "cell_type": "markdown",
   "metadata": {},
   "source": [
    "https://www.reddit.com/r/dailyprogrammer/comments/7btzrw/20171108_challenge_339_intermediate_a_car_renting/\n",
    "\n",
    "A carriage company is renting cars and there is a particular car for which the interest is the highest so the company decides to book the requests one year in advance. We represent a request with a tuple (x, y) where x is the first day of the renting and y is the last. Your goal is to come up with an optimum strategy where you serve the most number of requests."
   ]
  },
  {
   "cell_type": "markdown",
   "metadata": {},
   "source": [
    "The first line of the input will be n the number of requests. The following two lines will consist of n numbers for the starting day of the renting, followed by another n numbers for the last day of the renting corresponding. For all lines 0 < x i < y i <= 365 inequality holds, where i=1, 2, ..., n."
   ]
  },
  {
   "cell_type": "code",
   "execution_count": 66,
   "metadata": {
    "collapsed": true
   },
   "outputs": [],
   "source": [
    "inputs = \"\"\"10  \n",
    "1 12 5 12 13 40 30 22 70 19  \n",
    "23 13 10 29 25 66 35 33 100 65\"\"\""
   ]
  },
  {
   "cell_type": "code",
   "execution_count": 67,
   "metadata": {
    "collapsed": true
   },
   "outputs": [],
   "source": [
    "inputs = \"\"\"10  \n",
    "1 2 5 10 13 14 29 22 70 19  \n",
    "10 13 10 21 14 30 35 33 99 80\"\"\""
   ]
  },
  {
   "cell_type": "code",
   "execution_count": 68,
   "metadata": {
    "collapsed": false
   },
   "outputs": [
    {
     "data": {
      "text/plain": [
       "True"
      ]
     },
     "execution_count": 68,
     "metadata": {},
     "output_type": "execute_result"
    }
   ],
   "source": [
    "# Process the data\n",
    "\n",
    "inputs = inputs.split('\\n')\n",
    "inputs = [i.strip() for i in inputs]\n",
    "first_days = [int(i) for i in inputs[1].split()]\n",
    "last_days = [int(i) for i in inputs[2].split()]\n",
    "\n",
    "len(first_days) == len(last_days)"
   ]
  },
  {
   "cell_type": "code",
   "execution_count": 69,
   "metadata": {
    "collapsed": false
   },
   "outputs": [
    {
     "data": {
      "text/plain": [
       "[[(1, 10), 9],\n",
       " [(2, 13), 11],\n",
       " [(5, 10), 5],\n",
       " [(10, 21), 11],\n",
       " [(13, 14), 1],\n",
       " [(14, 30), 16],\n",
       " [(29, 35), 6],\n",
       " [(22, 33), 11],\n",
       " [(70, 99), 29],\n",
       " [(19, 80), 61]]"
      ]
     },
     "execution_count": 69,
     "metadata": {},
     "output_type": "execute_result"
    }
   ],
   "source": [
    "requests = []\n",
    "\n",
    "# Each item is a tuple of days followed by the length of the rental\n",
    "for i in range(len(first_days)):\n",
    "    requests.append([(first_days[i], last_days[i]),\n",
    "                    last_days[i] - first_days[i]])\n",
    "    \n",
    "requests"
   ]
  },
  {
   "cell_type": "code",
   "execution_count": 70,
   "metadata": {
    "collapsed": false
   },
   "outputs": [],
   "source": [
    "most_days = 0\n",
    "\n",
    "for i in requests:\n",
    "    last = i[0][1]\n",
    "    days = i[1]\n",
    "    if days > most_days:\n",
    "        most_days = days\n",
    "        rentals = [i[0]]\n",
    "    for j in requests:\n",
    "        if j[0][0] >= last:\n",
    "            last = j[0][0]\n",
    "            days += j[1]\n",
    "            if days > most_days:\n",
    "                most_days = days\n",
    "                if j[0] not in rentals:\n",
    "                    rentals.append(j[0])"
   ]
  },
  {
   "cell_type": "code",
   "execution_count": 71,
   "metadata": {
    "collapsed": false
   },
   "outputs": [
    {
     "data": {
      "text/plain": [
       "[(1, 10), (10, 21), (13, 14), (14, 30), (29, 35), (70, 99)]"
      ]
     },
     "execution_count": 71,
     "metadata": {},
     "output_type": "execute_result"
    }
   ],
   "source": [
    "rentals"
   ]
  },
  {
   "cell_type": "code",
   "execution_count": 72,
   "metadata": {
    "collapsed": false
   },
   "outputs": [
    {
     "data": {
      "text/plain": [
       "{(1, 10), (10, 21), (13, 14), (14, 30), (29, 35), (70, 99)}"
      ]
     },
     "execution_count": 72,
     "metadata": {},
     "output_type": "execute_result"
    }
   ],
   "source": [
    "set(rentals)"
   ]
  },
  {
   "cell_type": "code",
   "execution_count": 78,
   "metadata": {
    "collapsed": false
   },
   "outputs": [
    {
     "name": "stdout",
     "output_type": "stream",
     "text": [
      "latest: 10\n",
      "[[(10, 21), 11], [(13, 14), 1], [(14, 30), 16], [(29, 35), 6], [(22, 33), 11], [(70, 99), 29], [(19, 80), 61]]\n",
      "latest j: 10\n",
      "latest j: 29\n",
      "latest j: 70\n",
      "latest: 13\n",
      "[[(13, 14), 1], [(14, 30), 16], [(29, 35), 6], [(22, 33), 11], [(70, 99), 29], [(19, 80), 61]]\n",
      "latest j: 13\n",
      "latest j: 14\n",
      "latest j: 70\n",
      "latest: 10\n",
      "[[(10, 21), 11], [(13, 14), 1], [(14, 30), 16], [(29, 35), 6], [(22, 33), 11], [(70, 99), 29], [(19, 80), 61]]\n",
      "latest j: 10\n",
      "latest j: 29\n",
      "latest j: 70\n",
      "latest: 21\n",
      "[[(29, 35), 6], [(22, 33), 11], [(70, 99), 29]]\n",
      "latest j: 29\n",
      "latest j: 70\n",
      "latest: 14\n",
      "[[(14, 30), 16], [(29, 35), 6], [(22, 33), 11], [(70, 99), 29], [(19, 80), 61]]\n",
      "latest j: 14\n",
      "latest j: 70\n",
      "latest: 30\n",
      "[[(70, 99), 29]]\n",
      "latest j: 70\n",
      "latest: 35\n",
      "[[(70, 99), 29]]\n",
      "latest j: 70\n",
      "latest: 33\n",
      "[[(70, 99), 29]]\n",
      "latest j: 70\n",
      "latest: 99\n",
      "[]\n",
      "latest: 80\n",
      "[]\n"
     ]
    }
   ],
   "source": [
    "rental_options = []\n",
    "\n",
    "for i in requests:\n",
    "    rental_schedule = [i]\n",
    "    \n",
    "    latest = i[0][1]\n",
    "    print('latest:', latest)\n",
    "    \n",
    "    remaining_options = [r for r in requests if r[0][0] >= latest]\n",
    "    print(remaining_options)\n",
    "    \n",
    "    earliest = 365\n",
    "    while remaining_options:\n",
    "        # Pick earliest day\n",
    "        for i in remaining_\n",
    "        Pop that value\n",
    "        Remove all days earlier\n",
    "    \n",
    "    for iix, j in enumerate(requests):\n",
    "        if j[0][0] >= latest and j != i:\n",
    "            print('latest j:', j[0][0])\n",
    "            latest = j[0][1]\n",
    "#             requests_temp.pop(ix)"
   ]
  },
  {
   "cell_type": "code",
   "execution_count": 84,
   "metadata": {
    "collapsed": false
   },
   "outputs": [
    {
     "data": {
      "text/html": [
       "<div>\n",
       "<style scoped>\n",
       "    .dataframe tbody tr th:only-of-type {\n",
       "        vertical-align: middle;\n",
       "    }\n",
       "\n",
       "    .dataframe tbody tr th {\n",
       "        vertical-align: top;\n",
       "    }\n",
       "\n",
       "    .dataframe thead th {\n",
       "        text-align: right;\n",
       "    }\n",
       "</style>\n",
       "<table border=\"1\" class=\"dataframe\">\n",
       "  <thead>\n",
       "    <tr style=\"text-align: right;\">\n",
       "      <th></th>\n",
       "      <th>first</th>\n",
       "      <th>last</th>\n",
       "    </tr>\n",
       "  </thead>\n",
       "  <tbody>\n",
       "    <tr>\n",
       "      <th>0</th>\n",
       "      <td>1</td>\n",
       "      <td>10</td>\n",
       "    </tr>\n",
       "    <tr>\n",
       "      <th>1</th>\n",
       "      <td>2</td>\n",
       "      <td>13</td>\n",
       "    </tr>\n",
       "    <tr>\n",
       "      <th>2</th>\n",
       "      <td>5</td>\n",
       "      <td>10</td>\n",
       "    </tr>\n",
       "    <tr>\n",
       "      <th>3</th>\n",
       "      <td>10</td>\n",
       "      <td>21</td>\n",
       "    </tr>\n",
       "    <tr>\n",
       "      <th>4</th>\n",
       "      <td>13</td>\n",
       "      <td>14</td>\n",
       "    </tr>\n",
       "    <tr>\n",
       "      <th>5</th>\n",
       "      <td>14</td>\n",
       "      <td>30</td>\n",
       "    </tr>\n",
       "    <tr>\n",
       "      <th>6</th>\n",
       "      <td>29</td>\n",
       "      <td>35</td>\n",
       "    </tr>\n",
       "    <tr>\n",
       "      <th>7</th>\n",
       "      <td>22</td>\n",
       "      <td>33</td>\n",
       "    </tr>\n",
       "    <tr>\n",
       "      <th>8</th>\n",
       "      <td>70</td>\n",
       "      <td>99</td>\n",
       "    </tr>\n",
       "    <tr>\n",
       "      <th>9</th>\n",
       "      <td>19</td>\n",
       "      <td>80</td>\n",
       "    </tr>\n",
       "  </tbody>\n",
       "</table>\n",
       "</div>"
      ],
      "text/plain": [
       "   first  last\n",
       "0      1    10\n",
       "1      2    13\n",
       "2      5    10\n",
       "3     10    21\n",
       "4     13    14\n",
       "5     14    30\n",
       "6     29    35\n",
       "7     22    33\n",
       "8     70    99\n",
       "9     19    80"
      ]
     },
     "execution_count": 84,
     "metadata": {},
     "output_type": "execute_result"
    }
   ],
   "source": [
    "# Pandas\n",
    "\n",
    "import pandas as pd\n",
    "\n",
    "requests = []\n",
    "\n",
    "# Each item is a tuple of days followed by the length of the rental\n",
    "for i in range(len(first_days)):\n",
    "    requests.append([first_days[i], last_days[i]])\n",
    "    \n",
    "requests = pd.DataFrame(requests, columns=['first', 'last'])\n",
    "\n",
    "requests"
   ]
  },
  {
   "cell_type": "code",
   "execution_count": 95,
   "metadata": {
    "collapsed": false
   },
   "outputs": [],
   "source": [
    "plan = []\n",
    "\n",
    "start = requests.iloc[0]\n",
    "\n",
    "plan.append(start.values.tolist())\n",
    "\n",
    "new = requests[requests['first'] >= start['last']]\n",
    "\n",
    "start = new.iloc[0]\n",
    "\n",
    "plan.append(new.values.tolist())"
   ]
  },
  {
   "cell_type": "code",
   "execution_count": 96,
   "metadata": {
    "collapsed": false
   },
   "outputs": [
    {
     "data": {
      "text/plain": [
       "[[1, 10], [10, 21]]"
      ]
     },
     "execution_count": 96,
     "metadata": {},
     "output_type": "execute_result"
    }
   ],
   "source": [
    "plan"
   ]
  },
  {
   "cell_type": "code",
   "execution_count": null,
   "metadata": {
    "collapsed": true
   },
   "outputs": [],
   "source": []
  }
 ],
 "metadata": {
  "kernelspec": {
   "display_name": "Python 3",
   "language": "python",
   "name": "python3"
  },
  "language_info": {
   "codemirror_mode": {
    "name": "ipython",
    "version": 3
   },
   "file_extension": ".py",
   "mimetype": "text/x-python",
   "name": "python",
   "nbconvert_exporter": "python",
   "pygments_lexer": "ipython3",
   "version": "3.6.0"
  }
 },
 "nbformat": 4,
 "nbformat_minor": 2
}
