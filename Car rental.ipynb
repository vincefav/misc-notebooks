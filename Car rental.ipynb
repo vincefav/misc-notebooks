{
 "cells": [
  {
   "cell_type": "markdown",
   "metadata": {},
   "source": [
    "https://www.reddit.com/r/dailyprogrammer/comments/7btzrw/20171108_challenge_339_intermediate_a_car_renting/\n",
    "\n",
    "A carriage company is renting cars and there is a particular car for which the interest is the highest so the company decides to book the requests one year in advance. We represent a request with a tuple (x, y) where x is the first day of the renting and y is the last. Your goal is to come up with an optimum strategy where you serve the most number of requests."
   ]
  },
  {
   "cell_type": "markdown",
   "metadata": {},
   "source": [
    "The first line of the input will be n the number of requests. The following two lines will consist of n numbers for the starting day of the renting, followed by another n numbers for the last day of the renting corresponding. For all lines 0 < x i < y i <= 365 inequality holds, where i=1, 2, ..., n."
   ]
  },
  {
   "cell_type": "code",
   "execution_count": 99,
   "metadata": {
    "collapsed": true
   },
   "outputs": [],
   "source": [
    "inputs = \"\"\"10  \n",
    "1 12 5 12 13 40 30 22 70 19  \n",
    "23 13 10 29 25 66 35 33 100 65\"\"\""
   ]
  },
  {
   "cell_type": "code",
   "execution_count": 100,
   "metadata": {
    "collapsed": true
   },
   "outputs": [],
   "source": [
    "inputs = \"\"\"10  \n",
    "1 2 5 10 13 14 29 22 70 19  \n",
    "10 13 10 21 14 30 35 33 99 80\"\"\""
   ]
  },
  {
   "cell_type": "code",
   "execution_count": 101,
   "metadata": {
    "collapsed": false
   },
   "outputs": [
    {
     "data": {
      "text/plain": [
       "True"
      ]
     },
     "execution_count": 101,
     "metadata": {},
     "output_type": "execute_result"
    }
   ],
   "source": [
    "# Process the data\n",
    "\n",
    "inputs = inputs.split('\\n')\n",
    "inputs = [i.strip() for i in inputs]\n",
    "first_days = [int(i) for i in inputs[1].split()]\n",
    "last_days = [int(i) for i in inputs[2].split()]\n",
    "\n",
    "len(first_days) == len(last_days)"
   ]
  },
  {
   "cell_type": "code",
   "execution_count": 102,
   "metadata": {
    "collapsed": false
   },
   "outputs": [
    {
     "data": {
      "text/plain": [
       "[[(1, 10), 9],\n",
       " [(2, 13), 11],\n",
       " [(5, 10), 5],\n",
       " [(10, 21), 11],\n",
       " [(13, 14), 1],\n",
       " [(14, 30), 16],\n",
       " [(29, 35), 6],\n",
       " [(22, 33), 11],\n",
       " [(70, 99), 29],\n",
       " [(19, 80), 61]]"
      ]
     },
     "execution_count": 102,
     "metadata": {},
     "output_type": "execute_result"
    }
   ],
   "source": [
    "requests = []\n",
    "\n",
    "# Each item is a tuple of days followed by the length of the rental\n",
    "for i in range(len(first_days)):\n",
    "    requests.append([(first_days[i], last_days[i]),\n",
    "                    last_days[i] - first_days[i]])\n",
    "    \n",
    "requests"
   ]
  },
  {
   "cell_type": "markdown",
   "metadata": {},
   "source": [
    "After trying several different methods, I discovered that getting the combinations of requests is the most difficult part.\n",
    "\n",
    "Therefore, I used itertools to generate every possible combination, and then looped over them to remove the ones that had overlapping days. This runs fast enough with our current list, but might not be scalable."
   ]
  },
  {
   "cell_type": "code",
   "execution_count": 103,
   "metadata": {
    "collapsed": true
   },
   "outputs": [],
   "source": [
    "from itertools import combinations\n",
    "\n",
    "com = []\n",
    "\n",
    "for i in range(len(requests)):\n",
    "    for j in combinations(requests, i):\n",
    "        com.append(j)"
   ]
  },
  {
   "cell_type": "code",
   "execution_count": 104,
   "metadata": {
    "collapsed": false
   },
   "outputs": [],
   "source": [
    "to_remove = []\n",
    "\n",
    "for ix, c in enumerate(com):\n",
    "    for ix_c, i in enumerate(c):\n",
    "        for ix_j, j in enumerate(c):\n",
    "            if ix_j > ix_c:\n",
    "                if j[0][0] < i[0][1]:\n",
    "                    to_remove.append(ix)"
   ]
  },
  {
   "cell_type": "code",
   "execution_count": 105,
   "metadata": {
    "collapsed": true
   },
   "outputs": [],
   "source": [
    "to_remove = set(to_remove)\n",
    "\n",
    "com = [c for i, c in enumerate(com) if i not in to_remove]"
   ]
  },
  {
   "cell_type": "code",
   "execution_count": 106,
   "metadata": {
    "collapsed": true
   },
   "outputs": [],
   "source": [
    "lengths = []\n",
    "\n",
    "for i in com:\n",
    "    length = 0\n",
    "    for j in i:\n",
    "        length += j[1]\n",
    "    lengths.append([i, length])"
   ]
  },
  {
   "cell_type": "code",
   "execution_count": 107,
   "metadata": {
    "collapsed": false
   },
   "outputs": [
    {
     "data": {
      "text/plain": [
       "[([(2, 13), 11], [(13, 14), 1], [(19, 80), 61]), 73]"
      ]
     },
     "execution_count": 107,
     "metadata": {},
     "output_type": "execute_result"
    }
   ],
   "source": [
    "top = 0\n",
    "top_plan = None\n",
    "\n",
    "for i in lengths:\n",
    "    if i[1] > top:\n",
    "        top = i[1]\n",
    "        top_plan = i\n",
    "\n",
    "        \n",
    "# 85 out of 100 days\n",
    "top_plan"
   ]
  },
  {
   "cell_type": "code",
   "execution_count": null,
   "metadata": {
    "collapsed": true
   },
   "outputs": [],
   "source": []
  }
 ],
 "metadata": {
  "anaconda-cloud": {},
  "kernelspec": {
   "display_name": "Python 3",
   "language": "python",
   "name": "python3"
  },
  "language_info": {
   "codemirror_mode": {
    "name": "ipython",
    "version": 3
   },
   "file_extension": ".py",
   "mimetype": "text/x-python",
   "name": "python",
   "nbconvert_exporter": "python",
   "pygments_lexer": "ipython3",
   "version": "3.6.0"
  }
 },
 "nbformat": 4,
 "nbformat_minor": 2
}
