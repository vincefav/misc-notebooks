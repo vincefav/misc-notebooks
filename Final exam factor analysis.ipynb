{
 "cells": [
  {
   "cell_type": "code",
   "execution_count": 3,
   "metadata": {
    "collapsed": false
   },
   "outputs": [
    {
     "name": "stdout",
     "output_type": "stream",
     "text": [
      "Populating the interactive namespace from numpy and matplotlib\n"
     ]
    }
   ],
   "source": [
    "import pandas as pd\n",
    "from sklearn.decomposition import FactorAnalysis, PCA\n",
    "\n",
    "import numpy as np\n",
    "import matplotlib.pyplot as plt\n",
    "\n",
    "%pylab inline"
   ]
  },
  {
   "cell_type": "code",
   "execution_count": 4,
   "metadata": {
    "collapsed": true
   },
   "outputs": [],
   "source": [
    "data = pd.read_csv('Final Psyc 100 2018 Summer (Responses) - Copy of Student Submissions.csv')\n",
    "\n",
    "data = pd.get_dummies(data)"
   ]
  },
  {
   "cell_type": "code",
   "execution_count": 5,
   "metadata": {
    "collapsed": true
   },
   "outputs": [],
   "source": [
    "pca = PCA(n_components=16).fit(data)"
   ]
  },
  {
   "cell_type": "code",
   "execution_count": 6,
   "metadata": {
    "collapsed": false
   },
   "outputs": [
    {
     "data": {
      "text/plain": [
       "0.9938473139751753"
      ]
     },
     "execution_count": 6,
     "metadata": {},
     "output_type": "execute_result"
    }
   ],
   "source": [
    "pca.explained_variance_ratio_.sum()"
   ]
  },
  {
   "cell_type": "code",
   "execution_count": 7,
   "metadata": {
    "collapsed": false
   },
   "outputs": [
    {
     "data": {
      "text/plain": [
       "<matplotlib.axes._subplots.AxesSubplot at 0x1bbd8126400>"
      ]
     },
     "execution_count": 7,
     "metadata": {},
     "output_type": "execute_result"
    },
    {
     "data": {
      "image/png": "[encoded data removed]",
      "text/plain": [
       "<Figure size 432x288 with 1 Axes>"
      ]
     },
     "metadata": {},
     "output_type": "display_data"
    }
   ],
   "source": [
    "pd.DataFrame(np.cumsum(pca.explained_variance_ratio_)).plot()"
   ]
  },
  {
   "cell_type": "code",
   "execution_count": 8,
   "metadata": {
    "collapsed": false
   },
   "outputs": [],
   "source": [
    "fa = FactorAnalysis(n_components=15).fit(data)"
   ]
  },
  {
   "cell_type": "code",
   "execution_count": 9,
   "metadata": {
    "collapsed": false
   },
   "outputs": [],
   "source": [
    "factors = pd.DataFrame(fa.components_, columns=data.columns).T"
   ]
  },
  {
   "cell_type": "code",
   "execution_count": 13,
   "metadata": {
    "collapsed": false
   },
   "outputs": [
    {
     "data": {
      "text/html": [
       "<div>\n",
       "<style scoped>\n",
       "    .dataframe tbody tr th:only-of-type {\n",
       "        vertical-align: middle;\n",
       "    }\n",
       "\n",
       "    .dataframe tbody tr th {\n",
       "        vertical-align: top;\n",
       "    }\n",
       "\n",
       "    .dataframe thead th {\n",
       "        text-align: right;\n",
       "    }\n",
       "</style>\n",
       "<table border=\"1\" class=\"dataframe\">\n",
       "  <thead>\n",
       "    <tr style=\"text-align: right;\">\n",
       "      <th></th>\n",
       "      <th>0</th>\n",
       "    </tr>\n",
       "  </thead>\n",
       "  <tbody>\n",
       "    <tr>\n",
       "      <th>Which of the following correlations represents the strongest relationship?_– 0.72</th>\n",
       "      <td>-0.370098</td>\n",
       "    </tr>\n",
       "    <tr>\n",
       "      <th>Which of the following correlations represents the strongest relationship?_0.68</th>\n",
       "      <td>0.344177</td>\n",
       "    </tr>\n",
       "    <tr>\n",
       "      <th>Psychological research often involves gathering data. However, it’s not always easy to measure and record that data. For instance, we might want to measure how “impulsive” a child is. We can do this by:_Creating an operational definition</th>\n",
       "      <td>-0.320598</td>\n",
       "    </tr>\n",
       "    <tr>\n",
       "      <th>\"I always hit red lights when I'm late!\" This is probably an example of:_Confirmation bias</th>\n",
       "      <td>-0.243231</td>\n",
       "    </tr>\n",
       "    <tr>\n",
       "      <th>Procrastination occurs because:_We have poor impulse control</th>\n",
       "      <td>-0.222476</td>\n",
       "    </tr>\n",
       "  </tbody>\n",
       "</table>\n",
       "</div>"
      ],
      "text/plain": [
       "                                                           0\n",
       "Which of the following correlations represents ... -0.370098\n",
       "Which of the following correlations represents ...  0.344177\n",
       "Psychological research often involves gathering... -0.320598\n",
       "\"I always hit red lights when I'm late!\" This i... -0.243231\n",
       "Procrastination occurs because:_We have poor im... -0.222476"
      ]
     },
     "execution_count": 13,
     "metadata": {},
     "output_type": "execute_result"
    }
   ],
   "source": [
    "factors['absol'] = abs(factors[0])\n",
    "# factors.sort_values('absol', ascending=False)[[0]].head()"
   ]
  },
  {
   "cell_type": "code",
   "execution_count": 46,
   "metadata": {
    "collapsed": true
   },
   "outputs": [],
   "source": [
    "m = fa.components_\n",
    "n = fa.noise_variance_"
   ]
  },
  {
   "cell_type": "code",
   "execution_count": 35,
   "metadata": {
    "collapsed": true
   },
   "outputs": [],
   "source": [
    "m1 = m**2\n",
    "\n",
    "m2 = np.sum(m1,axis=1)"
   ]
  },
  {
   "cell_type": "code",
   "execution_count": 39,
   "metadata": {
    "collapsed": false
   },
   "outputs": [
    {
     "data": {
      "text/plain": [
       "0.2533414513992655"
      ]
     },
     "execution_count": 39,
     "metadata": {},
     "output_type": "execute_result"
    }
   ],
   "source": [
    "pvar1 = (m2[0])/np.sum(m2)\n",
    "\n",
    "pvar1"
   ]
  },
  {
   "cell_type": "code",
   "execution_count": 40,
   "metadata": {
    "collapsed": false
   },
   "outputs": [
    {
     "data": {
      "text/plain": [
       "0.17798312194543406"
      ]
     },
     "execution_count": 40,
     "metadata": {},
     "output_type": "execute_result"
    }
   ],
   "source": [
    "pvar2 = (m2[1])/np.sum(m2)\n",
    "\n",
    "pvar2"
   ]
  },
  {
   "cell_type": "code",
   "execution_count": 41,
   "metadata": {
    "collapsed": false
   },
   "outputs": [
    {
     "data": {
      "text/plain": [
       "0.24651785638646231"
      ]
     },
     "execution_count": 41,
     "metadata": {},
     "output_type": "execute_result"
    }
   ],
   "source": [
    "pvar1_with_noise = (m2[0])/(np.sum(m2)+np.sum(n))\n",
    "\n",
    "pvar1_with_noise"
   ]
  },
  {
   "cell_type": "code",
   "execution_count": 52,
   "metadata": {
    "collapsed": false
   },
   "outputs": [
    {
     "name": "stdout",
     "output_type": "stream",
     "text": [
      "1 0.24651785638646231\n",
      "2 0.1731892568413932\n",
      "3 0.09160820095076865\n",
      "4 0.0976903642847489\n",
      "5 0.06732908912754429\n",
      "6 0.05012231471219763\n",
      "7 0.039350399926434125\n",
      "8 0.031060983724107663\n",
      "9 0.026365423289383447\n",
      "10 0.0289182673920406\n",
      "11 0.02136808321788105\n",
      "12 0.01833635838903625\n",
      "13 0.016221420813662627\n",
      "14 0.039054186377239376\n",
      "15 0.02593341420764882\n"
     ]
    }
   ],
   "source": [
    "explained = []\n",
    "\n",
    "for i in range(len(m)):\n",
    "    print(i+1, (m2[i])/(np.sum(m2)+np.sum(n)))\n",
    "    explained.append((m2[i])/(np.sum(m2)+np.sum(n)))\n",
    "    \n",
    "explained = np.array(explained)"
   ]
  },
  {
   "cell_type": "code",
   "execution_count": 54,
   "metadata": {
    "collapsed": false
   },
   "outputs": [
    {
     "data": {
      "text/plain": [
       "array([0.24651786, 0.41970711, 0.51131531, 0.60900568, 0.67633477,\n",
       "       0.72645708, 0.76580748, 0.79686847, 0.82323389, 0.85215216,\n",
       "       0.87352024, 0.8918566 , 0.90807802, 0.94713221, 0.97306562])"
      ]
     },
     "execution_count": 54,
     "metadata": {},
     "output_type": "execute_result"
    }
   ],
   "source": [
    "np.cumsum(explained)"
   ]
  },
  {
   "cell_type": "code",
   "execution_count": 55,
   "metadata": {
    "collapsed": false
   },
   "outputs": [
    {
     "data": {
      "text/plain": [
       "<matplotlib.axes._subplots.AxesSubplot at 0x1bb54a55208>"
      ]
     },
     "execution_count": 55,
     "metadata": {},
     "output_type": "execute_result"
    },
    {
     "data": {
      "image/png": "[encoded data removed]",
      "text/plain": [
       "<matplotlib.figure.Figure at 0x1bb53a164a8>"
      ]
     },
     "metadata": {},
     "output_type": "display_data"
    }
   ],
   "source": [
    "pd.DataFrame(np.cumsum(explained)).plot()"
   ]
  },
  {
   "cell_type": "code",
   "execution_count": null,
   "metadata": {
    "collapsed": true
   },
   "outputs": [],
   "source": []
  }
 ],
 "metadata": {
  "anaconda-cloud": {},
  "kernelspec": {
   "display_name": "Python [default]",
   "language": "python",
   "name": "python3"
  },
  "language_info": {
   "codemirror_mode": {
    "name": "ipython",
    "version": 3
   },
   "file_extension": ".py",
   "mimetype": "text/x-python",
   "name": "python",
   "nbconvert_exporter": "python",
   "pygments_lexer": "ipython3",
   "version": "3.6.2"
  }
 },
 "nbformat": 4,
 "nbformat_minor": 2
}
