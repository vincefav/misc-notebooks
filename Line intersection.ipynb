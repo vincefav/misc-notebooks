{
 "cells": [
  {
   "cell_type": "code",
   "execution_count": 18,
   "metadata": {
    "collapsed": true
   },
   "outputs": [],
   "source": [
    "import numpy as np\n",
    "import math\n",
    "\n",
    "import pandas as pd\n",
    "import matplotlib.pyplot as plt\n",
    "%pylab inline"
   ]
  },
  {
   "cell_type": "code",
   "execution_count": 115,
   "metadata": {
    "collapsed": true
   },
   "outputs": [],
   "source": [
    "x_coords = np.arange(-100, 100, .01)"
   ]
  },
  {
   "cell_type": "code",
   "execution_count": 116,
   "metadata": {
    "collapsed": false
   },
   "outputs": [
    {
     "data": {
      "text/plain": [
       "1.0"
      ]
     },
     "execution_count": 116,
     "metadata": {},
     "output_type": "execute_result"
    }
   ],
   "source": [
    "degrees = 45\n",
    "radians = math.radians(degrees)\n",
    "\n",
    "slope = math.tan(radians)\n",
    "\n",
    "round(slope,4)"
   ]
  },
  {
   "cell_type": "code",
   "execution_count": 117,
   "metadata": {
    "collapsed": false
   },
   "outputs": [
    {
     "data": {
      "text/plain": [
       "0.0"
      ]
     },
     "execution_count": 117,
     "metadata": {},
     "output_type": "execute_result"
    }
   ],
   "source": [
    "a, b = (0, 0)\n",
    "x = 0\n",
    "y_intercept = (slope * x) - (slope * a) + b\n",
    "\n",
    "y_intercept"
   ]
  },
  {
   "cell_type": "code",
   "execution_count": 118,
   "metadata": {
    "collapsed": true
   },
   "outputs": [],
   "source": [
    "y1 = []\n",
    "\n",
    "for x in x_coords:\n",
    "    y = (slope * x) - (slope * a) + b\n",
    "    y = round(y, 3)\n",
    "    y1.append(y)"
   ]
  },
  {
   "cell_type": "code",
   "execution_count": 129,
   "metadata": {
    "collapsed": false
   },
   "outputs": [
    {
     "data": {
      "text/plain": [
       "2.7475"
      ]
     },
     "execution_count": 129,
     "metadata": {},
     "output_type": "execute_result"
    }
   ],
   "source": [
    "degrees = 70\n",
    "radians = math.radians(degrees)\n",
    "\n",
    "slope = math.tan(radians)\n",
    "\n",
    "round(slope,4)"
   ]
  },
  {
   "cell_type": "markdown",
   "metadata": {},
   "source": [
    "$y - y_1 = m(x - x_1)$"
   ]
  },
  {
   "cell_type": "code",
   "execution_count": 130,
   "metadata": {
    "collapsed": false
   },
   "outputs": [
    {
     "data": {
      "text/plain": [
       "-27.474774194546217"
      ]
     },
     "execution_count": 130,
     "metadata": {},
     "output_type": "execute_result"
    }
   ],
   "source": [
    "a, b = (10, 0)\n",
    "x = 0\n",
    "y_intercept = (slope * x) - (slope * a) + b\n",
    "\n",
    "y_intercept"
   ]
  },
  {
   "cell_type": "code",
   "execution_count": 131,
   "metadata": {
    "collapsed": false
   },
   "outputs": [],
   "source": [
    "y2 = []\n",
    "\n",
    "for x in x_coords:\n",
    "    y = (slope * x) - (slope * a) + b\n",
    "    y = round(y, 3)\n",
    "    y2.append(y)"
   ]
  },
  {
   "cell_type": "code",
   "execution_count": 132,
   "metadata": {
    "collapsed": false
   },
   "outputs": [],
   "source": [
    "lines = pd.DataFrame([y1,y2]).T\n",
    "lines.index = x_coords"
   ]
  },
  {
   "cell_type": "code",
   "execution_count": 134,
   "metadata": {
    "collapsed": false
   },
   "outputs": [
    {
     "data": {
      "text/html": [
       "<div>\n",
       "<style scoped>\n",
       "    .dataframe tbody tr th:only-of-type {\n",
       "        vertical-align: middle;\n",
       "    }\n",
       "\n",
       "    .dataframe tbody tr th {\n",
       "        vertical-align: top;\n",
       "    }\n",
       "\n",
       "    .dataframe thead th {\n",
       "        text-align: right;\n",
       "    }\n",
       "</style>\n",
       "<table border=\"1\" class=\"dataframe\">\n",
       "  <thead>\n",
       "    <tr style=\"text-align: right;\">\n",
       "      <th></th>\n",
       "      <th>0</th>\n",
       "      <th>1</th>\n",
       "    </tr>\n",
       "  </thead>\n",
       "  <tbody>\n",
       "    <tr>\n",
       "      <th>15.72</th>\n",
       "      <td>15.72</td>\n",
       "      <td>15.716</td>\n",
       "    </tr>\n",
       "  </tbody>\n",
       "</table>\n",
       "</div>"
      ],
      "text/plain": [
       "           0       1\n",
       "15.72  15.72  15.716"
      ]
     },
     "execution_count": 134,
     "metadata": {},
     "output_type": "execute_result"
    }
   ],
   "source": [
    "lines[np.isclose(lines[0], lines[1], atol=.01)]"
   ]
  },
  {
   "cell_type": "code",
   "execution_count": 135,
   "metadata": {
    "collapsed": false
   },
   "outputs": [
    {
     "data": {
      "text/plain": [
       "<matplotlib.axes._subplots.AxesSubplot at 0x1d79f792748>"
      ]
     },
     "execution_count": 135,
     "metadata": {},
     "output_type": "execute_result"
    },
    {
     "data": {
      "image/png": "[encoded data removed]",
      "text/plain": [
       "<matplotlib.figure.Figure at 0x1d7a131cf60>"
      ]
     },
     "metadata": {},
     "output_type": "display_data"
    }
   ],
   "source": [
    "pd.Series(y1, index=x_coords).plot()\n",
    "pd.Series(y2, index=x_coords).plot()"
   ]
  },
  {
   "cell_type": "code",
   "execution_count": 152,
   "metadata": {
    "collapsed": false
   },
   "outputs": [],
   "source": [
    "# For calculating y intercept\n",
    "\n",
    "def intersection(degrees1, point1, degrees2, point2):\n",
    "    x = 0\n",
    "\n",
    "    radians1 = math.radians(degrees1)\n",
    "\n",
    "    slope1 = math.tan(radians1)\n",
    "\n",
    "    a1, b1 = point1\n",
    "    y_intercept1 = (slope1 * x) - (slope1 * a1) + b1\n",
    "\n",
    "    radians2 = math.radians(degrees2)\n",
    "\n",
    "    slope2 = math.tan(radians2)\n",
    "\n",
    "    a2, b2 = point2\n",
    "    y_intercept2 = (slope2 * x) - (slope2 * a2) + b2\n",
    "    \n",
    "    y1 = []\n",
    "    y2 = []\n",
    "    x_coords = np.arange(-100, 100, .01)\n",
    "    \n",
    "    for x in x_coords:\n",
    "        y_a = (slope1 * x) - (slope1 * a1) + b1\n",
    "        y_a = round(y_a, 3)\n",
    "        y1.append(y_a)\n",
    "        \n",
    "        y_b = (slope2 * x) - (slope2 * a2) + b2\n",
    "        y_b = round(y_b, 3)\n",
    "        y2.append(y_b)\n",
    "        \n",
    "    lines = pd.DataFrame([y1,y2]).T\n",
    "    lines.index = x_coords\n",
    "    \n",
    "    return lines[np.isclose(lines[0], lines[1], atol=.005)].index[0]"
   ]
  },
  {
   "cell_type": "code",
   "execution_count": 153,
   "metadata": {
    "collapsed": false
   },
   "outputs": [
    {
     "data": {
      "text/plain": [
       "3.360000000052878"
      ]
     },
     "execution_count": 153,
     "metadata": {},
     "output_type": "execute_result"
    }
   ],
   "source": [
    "intersection(30, (1, 2), 45, (2, 2))"
   ]
  },
  {
   "cell_type": "code",
   "execution_count": null,
   "metadata": {
    "collapsed": true
   },
   "outputs": [],
   "source": []
  }
 ],
 "metadata": {
  "kernelspec": {
   "display_name": "Python 3",
   "language": "python",
   "name": "python3"
  },
  "language_info": {
   "codemirror_mode": {
    "name": "ipython",
    "version": 3
   },
   "file_extension": ".py",
   "mimetype": "text/x-python",
   "name": "python",
   "nbconvert_exporter": "python",
   "pygments_lexer": "ipython3",
   "version": "3.6.0"
  }
 },
 "nbformat": 4,
 "nbformat_minor": 2
}
