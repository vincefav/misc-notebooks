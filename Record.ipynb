{
 "cells": [
  {
   "cell_type": "code",
   "execution_count": 16,
   "metadata": {
    "collapsed": false
   },
   "outputs": [
    {
     "name": "stdout",
     "output_type": "stream",
     "text": [
      "Populating the interactive namespace from numpy and matplotlib\n"
     ]
    },
    {
     "name": "stderr",
     "output_type": "stream",
     "text": [
      "C:\\Users\\Vince\\Anaconda3\\lib\\site-packages\\IPython\\core\\magics\\pylab.py:161: UserWarning: pylab import has clobbered these variables: ['clf']\n",
      "`%matplotlib` prevents importing * from pylab and numpy\n",
      "  \"\\n`%matplotlib` prevents importing * from pylab and numpy\"\n"
     ]
    }
   ],
   "source": [
    "import pandas as pd\n",
    "import numpy as np\n",
    "\n",
    "import os\n",
    "\n",
    "%pylab inline\n",
    "\n",
    "os.environ[\"PATH\"] += os.pathsep + 'C:/Program Files (x86)/Graphviz2.38/bin/'"
   ]
  },
  {
   "cell_type": "code",
   "execution_count": 35,
   "metadata": {
    "collapsed": false
   },
   "outputs": [
    {
     "data": {
      "text/html": [
       "<div>\n",
       "<style scoped>\n",
       "    .dataframe tbody tr th:only-of-type {\n",
       "        vertical-align: middle;\n",
       "    }\n",
       "\n",
       "    .dataframe tbody tr th {\n",
       "        vertical-align: top;\n",
       "    }\n",
       "\n",
       "    .dataframe thead th {\n",
       "        text-align: right;\n",
       "    }\n",
       "</style>\n",
       "<table border=\"1\" class=\"dataframe\">\n",
       "  <thead>\n",
       "    <tr style=\"text-align: right;\">\n",
       "      <th></th>\n",
       "      <th>Me</th>\n",
       "      <th>Opponent</th>\n",
       "      <th>Win</th>\n",
       "      <th>Rank</th>\n",
       "    </tr>\n",
       "  </thead>\n",
       "  <tbody>\n",
       "    <tr>\n",
       "      <th>266</th>\n",
       "      <td>BG</td>\n",
       "      <td>WG</td>\n",
       "      <td>1</td>\n",
       "      <td>Silver 4</td>\n",
       "    </tr>\n",
       "    <tr>\n",
       "      <th>267</th>\n",
       "      <td>R</td>\n",
       "      <td>R</td>\n",
       "      <td>1</td>\n",
       "      <td>Silver 4</td>\n",
       "    </tr>\n",
       "    <tr>\n",
       "      <th>268</th>\n",
       "      <td>UBG</td>\n",
       "      <td>WU</td>\n",
       "      <td>0</td>\n",
       "      <td>Silver 4</td>\n",
       "    </tr>\n",
       "    <tr>\n",
       "      <th>269</th>\n",
       "      <td>UBG</td>\n",
       "      <td>BR</td>\n",
       "      <td>0</td>\n",
       "      <td>Silver 4</td>\n",
       "    </tr>\n",
       "    <tr>\n",
       "      <th>270</th>\n",
       "      <td>UBG</td>\n",
       "      <td>BR</td>\n",
       "      <td>1</td>\n",
       "      <td>Silver 4</td>\n",
       "    </tr>\n",
       "  </tbody>\n",
       "</table>\n",
       "</div>"
      ],
      "text/plain": [
       "      Me Opponent  Win      Rank\n",
       "266   BG       WG    1  Silver 4\n",
       "267    R        R    1  Silver 4\n",
       "268  UBG       WU    0  Silver 4\n",
       "269  UBG       BR    0  Silver 4\n",
       "270  UBG       BR    1  Silver 4"
      ]
     },
     "execution_count": 35,
     "metadata": {},
     "output_type": "execute_result"
    }
   ],
   "source": [
    "data = pd.read_csv('Magic record - Sheet1.csv')\n",
    "\n",
    "data.columns = 'Me Opponent Win Rank Hand Mulligans del1 del2'.split()\n",
    "\n",
    "del data['Hand']\n",
    "del data['Mulligans']\n",
    "del data['del1']\n",
    "del data['del2']\n",
    "\n",
    "data.tail()"
   ]
  },
  {
   "cell_type": "code",
   "execution_count": 36,
   "metadata": {
    "collapsed": false
   },
   "outputs": [
    {
     "data": {
      "text/html": [
       "<div>\n",
       "<style scoped>\n",
       "    .dataframe tbody tr th:only-of-type {\n",
       "        vertical-align: middle;\n",
       "    }\n",
       "\n",
       "    .dataframe tbody tr th {\n",
       "        vertical-align: top;\n",
       "    }\n",
       "\n",
       "    .dataframe thead th {\n",
       "        text-align: right;\n",
       "    }\n",
       "</style>\n",
       "<table border=\"1\" class=\"dataframe\">\n",
       "  <thead>\n",
       "    <tr style=\"text-align: right;\">\n",
       "      <th></th>\n",
       "      <th>Opponent</th>\n",
       "    </tr>\n",
       "    <tr>\n",
       "      <th>Me</th>\n",
       "      <th></th>\n",
       "    </tr>\n",
       "  </thead>\n",
       "  <tbody>\n",
       "    <tr>\n",
       "      <th>BG</th>\n",
       "      <td>45</td>\n",
       "    </tr>\n",
       "    <tr>\n",
       "      <th>R</th>\n",
       "      <td>31</td>\n",
       "    </tr>\n",
       "    <tr>\n",
       "      <th>UR</th>\n",
       "      <td>30</td>\n",
       "    </tr>\n",
       "    <tr>\n",
       "      <th>WG</th>\n",
       "      <td>26</td>\n",
       "    </tr>\n",
       "    <tr>\n",
       "      <th>UB</th>\n",
       "      <td>25</td>\n",
       "    </tr>\n",
       "    <tr>\n",
       "      <th>UG</th>\n",
       "      <td>19</td>\n",
       "    </tr>\n",
       "    <tr>\n",
       "      <th>RG</th>\n",
       "      <td>18</td>\n",
       "    </tr>\n",
       "    <tr>\n",
       "      <th>G</th>\n",
       "      <td>13</td>\n",
       "    </tr>\n",
       "    <tr>\n",
       "      <th>BR</th>\n",
       "      <td>12</td>\n",
       "    </tr>\n",
       "    <tr>\n",
       "      <th>UBR</th>\n",
       "      <td>11</td>\n",
       "    </tr>\n",
       "    <tr>\n",
       "      <th>WB</th>\n",
       "      <td>10</td>\n",
       "    </tr>\n",
       "    <tr>\n",
       "      <th>WUR</th>\n",
       "      <td>9</td>\n",
       "    </tr>\n",
       "    <tr>\n",
       "      <th>UBG</th>\n",
       "      <td>7</td>\n",
       "    </tr>\n",
       "    <tr>\n",
       "      <th>WUB</th>\n",
       "      <td>5</td>\n",
       "    </tr>\n",
       "    <tr>\n",
       "      <th>W</th>\n",
       "      <td>4</td>\n",
       "    </tr>\n",
       "    <tr>\n",
       "      <th>B</th>\n",
       "      <td>4</td>\n",
       "    </tr>\n",
       "    <tr>\n",
       "      <th>WR</th>\n",
       "      <td>2</td>\n",
       "    </tr>\n",
       "  </tbody>\n",
       "</table>\n",
       "</div>"
      ],
      "text/plain": [
       "     Opponent\n",
       "Me           \n",
       "BG         45\n",
       "R          31\n",
       "UR         30\n",
       "WG         26\n",
       "UB         25\n",
       "UG         19\n",
       "RG         18\n",
       "G          13\n",
       "BR         12\n",
       "UBR        11\n",
       "WB         10\n",
       "WUR         9\n",
       "UBG         7\n",
       "WUB         5\n",
       "W           4\n",
       "B           4\n",
       "WR          2"
      ]
     },
     "execution_count": 36,
     "metadata": {},
     "output_type": "execute_result"
    }
   ],
   "source": [
    "# How many times I've played each color combo\n",
    "data.groupby('Me').count().sort_values('Opponent', ascending=False)[['Opponent']]"
   ]
  },
  {
   "cell_type": "code",
   "execution_count": 37,
   "metadata": {
    "collapsed": false
   },
   "outputs": [],
   "source": [
    "data['Me_W'] = np.where(data['Me'].str.contains('W'), 1, 0)\n",
    "data['Me_U'] = np.where(data['Me'].str.contains('U'), 1, 0)\n",
    "data['Me_B'] = np.where(data['Me'].str.contains('B'), 1, 0)\n",
    "data['Me_R'] = np.where(data['Me'].str.contains('R'), 1, 0)\n",
    "data['Me_G'] = np.where(data['Me'].str.contains('G'), 1, 0)\n",
    "\n",
    "data['Opponent_W'] = np.where(data['Opponent'].str.contains('W'), 1, 0)\n",
    "data['Opponent_U'] = np.where(data['Opponent'].str.contains('U'), 1, 0)\n",
    "data['Opponent_B'] = np.where(data['Opponent'].str.contains('B'), 1, 0)\n",
    "data['Opponent_R'] = np.where(data['Opponent'].str.contains('R'), 1, 0)\n",
    "data['Opponent_G'] = np.where(data['Opponent'].str.contains('G'), 1, 0)\n",
    "\n",
    "rank = np.where(data['Rank'] == 'Bronze 1', 1, np.nan)\n",
    "rank = np.where(data['Rank'] == 'Silver 4', 2, rank)\n",
    "rank = np.where(data['Rank'] == 'Silver 3', 3, rank)\n",
    "\n",
    "data['My_colors_ct'] = data['Me'].apply(len)\n",
    "data['Opponent_colors_ct'] = data['Opponent'].apply(len)\n",
    "\n",
    "data['Rank'] = pd.Series(rank)"
   ]
  },
  {
   "cell_type": "code",
   "execution_count": 38,
   "metadata": {
    "collapsed": false
   },
   "outputs": [
    {
     "data": {
      "text/plain": [
       "Me\n",
       "B      0.000000\n",
       "W      0.000000\n",
       "WUR    0.333333\n",
       "UBR    0.363636\n",
       "UR     0.366667\n",
       "UG     0.421053\n",
       "G      0.461538\n",
       "WR     0.500000\n",
       "BG     0.511111\n",
       "WUB    0.600000\n",
       "WB     0.600000\n",
       "WG     0.653846\n",
       "RG     0.666667\n",
       "BR     0.666667\n",
       "UB     0.680000\n",
       "R      0.709677\n",
       "UBG    0.714286\n",
       "Name: Win, dtype: float64"
      ]
     },
     "execution_count": 38,
     "metadata": {},
     "output_type": "execute_result"
    }
   ],
   "source": [
    "data.groupby('Me').mean()['Win'].sort_values()"
   ]
  },
  {
   "cell_type": "code",
   "execution_count": 39,
   "metadata": {
    "collapsed": false
   },
   "outputs": [
    {
     "data": {
      "text/plain": [
       "Opponent\n",
       "UG       0.000000\n",
       "RW       0.000000\n",
       "WRG      0.000000\n",
       "WBG      0.000000\n",
       "RG       0.333333\n",
       "UR       0.400000\n",
       "BG       0.428571\n",
       "W        0.437500\n",
       "BR       0.478261\n",
       "BRG      0.500000\n",
       "WUB      0.500000\n",
       "G        0.518519\n",
       "R        0.525000\n",
       "WU       0.533333\n",
       "B        0.538462\n",
       "UB       0.625000\n",
       "UBR      0.636364\n",
       "WB       0.666667\n",
       "WR       0.666667\n",
       "U        0.666667\n",
       "UBG      0.750000\n",
       "WUG      0.750000\n",
       "WG       0.833333\n",
       "UBRG     1.000000\n",
       "WBR      1.000000\n",
       "BW       1.000000\n",
       "WUBG     1.000000\n",
       "WUBRG    1.000000\n",
       "WUR      1.000000\n",
       "Name: Win, dtype: float64"
      ]
     },
     "execution_count": 39,
     "metadata": {},
     "output_type": "execute_result"
    }
   ],
   "source": [
    "data.groupby('Opponent').mean()['Win'].sort_values()"
   ]
  },
  {
   "cell_type": "code",
   "execution_count": 40,
   "metadata": {
    "collapsed": true
   },
   "outputs": [],
   "source": [
    "del data['Me']\n",
    "del data['Opponent']\n",
    "\n",
    "data = pd.get_dummies(data)"
   ]
  },
  {
   "cell_type": "code",
   "execution_count": 41,
   "metadata": {
    "collapsed": false
   },
   "outputs": [],
   "source": [
    "x = data.drop('Win', axis=1).dropna(axis=1)\n",
    "y = data['Win'].dropna()"
   ]
  },
  {
   "cell_type": "code",
   "execution_count": 42,
   "metadata": {
    "collapsed": false
   },
   "outputs": [
    {
     "data": {
      "text/plain": [
       "DecisionTreeClassifier(class_weight=None, criterion='gini', max_depth=6,\n",
       "            max_features=None, max_leaf_nodes=None,\n",
       "            min_impurity_decrease=0.0, min_impurity_split=None,\n",
       "            min_samples_leaf=8, min_samples_split=4,\n",
       "            min_weight_fraction_leaf=0.0, presort=False, random_state=None,\n",
       "            splitter='best')"
      ]
     },
     "execution_count": 42,
     "metadata": {},
     "output_type": "execute_result"
    }
   ],
   "source": [
    "from sklearn.tree import DecisionTreeClassifier\n",
    "from sklearn.model_selection import GridSearchCV, cross_val_score, StratifiedKFold\n",
    "\n",
    "clf = DecisionTreeClassifier()\n",
    "kf = StratifiedKFold(n_splits=3)\n",
    "\n",
    "param_grid = {\n",
    "    'max_depth': np.arange(2,7),\n",
    "    'min_samples_leaf': np.arange(1,13),\n",
    "    'min_samples_split': np.arange(2,13),\n",
    "    \n",
    "}\n",
    "\n",
    "grid = GridSearchCV(clf, param_grid, cv=kf, scoring='roc_auc').fit(x, y)\n",
    "clf = grid.best_estimator_\n",
    "\n",
    "clf"
   ]
  },
  {
   "cell_type": "code",
   "execution_count": 43,
   "metadata": {
    "collapsed": false
   },
   "outputs": [
    {
     "data": {
      "text/plain": [
       "(0.5203642142106553, 0.06829784825567288)"
      ]
     },
     "execution_count": 43,
     "metadata": {},
     "output_type": "execute_result"
    }
   ],
   "source": [
    "cv = cross_val_score(clf, x, y, cv=kf, scoring='roc_auc')\n",
    "\n",
    "cv.mean(), cv.std()"
   ]
  },
  {
   "cell_type": "code",
   "execution_count": 136,
   "metadata": {
    "collapsed": false
   },
   "outputs": [
    {
     "data": {
      "image/png": "[encoded data removed]",
      "text/plain": [
       "<IPython.core.display.Image object>"
      ]
     },
     "execution_count": 136,
     "metadata": {},
     "output_type": "execute_result"
    }
   ],
   "source": [
    "from sklearn.tree import export_graphviz\n",
    "\n",
    "clf = DecisionTreeClassifier(max_depth=2)\n",
    "clf = clf.fit(x,y)\n",
    "from IPython.display import Image  \n",
    "import pydotplus\n",
    "\n",
    "dot_data = export_graphviz(clf, out_file=None, \n",
    "                         feature_names=x.columns,  \n",
    "                         class_names=['Lose', 'Win'],  \n",
    "                         filled=True, rounded=True,  \n",
    "                         special_characters=True)  \n",
    "graph = pydotplus.graph_from_dot_data(dot_data)  \n",
    "Image(graph.create_png())  "
   ]
  },
  {
   "cell_type": "code",
   "execution_count": 137,
   "metadata": {
    "collapsed": false
   },
   "outputs": [
    {
     "data": {
      "text/plain": [
       "LogisticRegression(C=0.1, class_weight=None, dual=False, fit_intercept=True,\n",
       "          intercept_scaling=1, max_iter=100, multi_class='ovr', n_jobs=1,\n",
       "          penalty='l1', random_state=None, solver='liblinear', tol=0.0001,\n",
       "          verbose=0, warm_start=False)"
      ]
     },
     "execution_count": 137,
     "metadata": {},
     "output_type": "execute_result"
    }
   ],
   "source": [
    "from sklearn.linear_model import LogisticRegression\n",
    "from sklearn.model_selection import GridSearchCV, cross_val_score, StratifiedKFold\n",
    "\n",
    "clf = LogisticRegression()\n",
    "kf = StratifiedKFold()\n",
    "\n",
    "param_grid = {\n",
    "    'penalty': ['l1', 'l2'],\n",
    "    'C': [.0001, .001, .01, .1, 1, 2, .5]\n",
    "}\n",
    "\n",
    "grid = GridSearchCV(clf, param_grid, cv=kf, scoring='roc_auc').fit(x, y)\n",
    "clf = grid.best_estimator_\n",
    "\n",
    "clf"
   ]
  },
  {
   "cell_type": "code",
   "execution_count": 138,
   "metadata": {
    "collapsed": false
   },
   "outputs": [
    {
     "data": {
      "text/plain": [
       "(0.5391826655596546, 0.04661474281869491)"
      ]
     },
     "execution_count": 138,
     "metadata": {},
     "output_type": "execute_result"
    }
   ],
   "source": [
    "cv = cross_val_score(clf, x, y, cv=kf, scoring='roc_auc')\n",
    "\n",
    "cv.mean(), cv.std()"
   ]
  },
  {
   "cell_type": "code",
   "execution_count": 115,
   "metadata": {
    "collapsed": false
   },
   "outputs": [
    {
     "data": {
      "text/html": [
       "<div>\n",
       "<style scoped>\n",
       "    .dataframe tbody tr th:only-of-type {\n",
       "        vertical-align: middle;\n",
       "    }\n",
       "\n",
       "    .dataframe tbody tr th {\n",
       "        vertical-align: top;\n",
       "    }\n",
       "\n",
       "    .dataframe thead th {\n",
       "        text-align: right;\n",
       "    }\n",
       "</style>\n",
       "<table border=\"1\" class=\"dataframe\">\n",
       "  <thead>\n",
       "    <tr style=\"text-align: right;\">\n",
       "      <th></th>\n",
       "      <th>0</th>\n",
       "    </tr>\n",
       "  </thead>\n",
       "  <tbody>\n",
       "    <tr>\n",
       "      <th>Me_W</th>\n",
       "      <td>0.0</td>\n",
       "    </tr>\n",
       "    <tr>\n",
       "      <th>Me_U</th>\n",
       "      <td>0.0</td>\n",
       "    </tr>\n",
       "    <tr>\n",
       "      <th>Me_B</th>\n",
       "      <td>0.0</td>\n",
       "    </tr>\n",
       "    <tr>\n",
       "      <th>Me_R</th>\n",
       "      <td>0.0</td>\n",
       "    </tr>\n",
       "    <tr>\n",
       "      <th>Me_G</th>\n",
       "      <td>0.0</td>\n",
       "    </tr>\n",
       "    <tr>\n",
       "      <th>Opponent_W</th>\n",
       "      <td>0.0</td>\n",
       "    </tr>\n",
       "    <tr>\n",
       "      <th>Opponent_U</th>\n",
       "      <td>0.0</td>\n",
       "    </tr>\n",
       "    <tr>\n",
       "      <th>Opponent_B</th>\n",
       "      <td>0.0</td>\n",
       "    </tr>\n",
       "    <tr>\n",
       "      <th>Opponent_R</th>\n",
       "      <td>0.0</td>\n",
       "    </tr>\n",
       "    <tr>\n",
       "      <th>Opponent_G</th>\n",
       "      <td>0.0</td>\n",
       "    </tr>\n",
       "  </tbody>\n",
       "</table>\n",
       "</div>"
      ],
      "text/plain": [
       "              0\n",
       "Me_W        0.0\n",
       "Me_U        0.0\n",
       "Me_B        0.0\n",
       "Me_R        0.0\n",
       "Me_G        0.0\n",
       "Opponent_W  0.0\n",
       "Opponent_U  0.0\n",
       "Opponent_B  0.0\n",
       "Opponent_R  0.0\n",
       "Opponent_G  0.0"
      ]
     },
     "execution_count": 115,
     "metadata": {},
     "output_type": "execute_result"
    }
   ],
   "source": [
    "pd.DataFrame(clf.coef_, columns=x.columns).T.sort_values(0)"
   ]
  },
  {
   "cell_type": "code",
   "execution_count": 116,
   "metadata": {
    "collapsed": false
   },
   "outputs": [],
   "source": [
    "data.to_csv('record_proc.csv')"
   ]
  },
  {
   "cell_type": "code",
   "execution_count": 53,
   "metadata": {
    "collapsed": false
   },
   "outputs": [],
   "source": []
  },
  {
   "cell_type": "code",
   "execution_count": 76,
   "metadata": {
    "collapsed": false
   },
   "outputs": [],
   "source": [
    "land_count = []\n",
    "\n",
    "for trial in range(10000):\n",
    "    deck = []\n",
    "    lands = 29\n",
    "    cards = 60 - lands\n",
    "\n",
    "    for i in range(lands):\n",
    "        deck += ['land']\n",
    "    for i in range(cards):\n",
    "        deck += ['cards']\n",
    "\n",
    "    shuffle(deck)\n",
    "\n",
    "    lands_drawn = 0\n",
    "    turn = 4\n",
    "\n",
    "    for i in range(7 + turn):\n",
    "        new = deck.pop()\n",
    "        if new == 'land':\n",
    "            lands_drawn += 1\n",
    "    land_count += [lands_drawn]\n",
    "    \n",
    "land_count = pd.Series(land_count)"
   ]
  },
  {
   "cell_type": "code",
   "execution_count": 77,
   "metadata": {
    "collapsed": false
   },
   "outputs": [
    {
     "data": {
      "text/plain": [
       "0.8906"
      ]
     },
     "execution_count": 77,
     "metadata": {},
     "output_type": "execute_result"
    }
   ],
   "source": [
    "len(land_count[land_count >= 4])/len(land_count)"
   ]
  },
  {
   "cell_type": "code",
   "execution_count": null,
   "metadata": {
    "collapsed": true
   },
   "outputs": [],
   "source": []
  }
 ],
 "metadata": {
  "anaconda-cloud": {},
  "kernelspec": {
   "display_name": "Python [default]",
   "language": "python",
   "name": "python3"
  },
  "language_info": {
   "codemirror_mode": {
    "name": "ipython",
    "version": 3
   },
   "file_extension": ".py",
   "mimetype": "text/x-python",
   "name": "python",
   "nbconvert_exporter": "python",
   "pygments_lexer": "ipython3",
   "version": "3.6.2"
  }
 },
 "nbformat": 4,
 "nbformat_minor": 2
}
