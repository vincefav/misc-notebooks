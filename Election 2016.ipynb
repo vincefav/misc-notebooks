{
 "cells": [
  {
   "cell_type": "code",
   "execution_count": 1,
   "metadata": {
    "collapsed": false
   },
   "outputs": [
    {
     "name": "stdout",
     "output_type": "stream",
     "text": [
      "Populating the interactive namespace from numpy and matplotlib\n"
     ]
    },
    {
     "name": "stderr",
     "output_type": "stream",
     "text": [
      "C:\\Users\\Vince\\Anaconda3\\lib\\site-packages\\IPython\\core\\magics\\pylab.py:161: UserWarning: pylab import has clobbered these variables: ['datetime']\n",
      "`%matplotlib` prevents importing * from pylab and numpy\n",
      "  \"\\n`%matplotlib` prevents importing * from pylab and numpy\"\n"
     ]
    }
   ],
   "source": [
    "import pandas as pd\n",
    "import numpy as np\n",
    "import nltk\n",
    "import seaborn as sns\n",
    "\n",
    "# Use to grab data from the web(HTTP capabilities)\n",
    "import requests\n",
    "\n",
    "# We'll also use StringIO to work with the csv file, the DataFrame will require a .read() method\n",
    "from io import StringIO\n",
    "\n",
    "from datetime import datetime\n",
    "\n",
    "%pylab inline"
   ]
  },
  {
   "cell_type": "code",
   "execution_count": 2,
   "metadata": {
    "collapsed": true
   },
   "outputs": [],
   "source": [
    "# This is the url link for the poll data in csv form\n",
    "url = \"http://elections.huffingtonpost.com/pollster/api/charts/2016-general-election-trump-vs-clinton.csv\"\n",
    "\n",
    "# Use requests to get the information in text form\n",
    "source = requests.get(url).text\n",
    "\n",
    "# Use StringIO to avoid an IO error with pandas\n",
    "poll_data = StringIO(source) "
   ]
  },
  {
   "cell_type": "code",
   "execution_count": 3,
   "metadata": {
    "collapsed": false
   },
   "outputs": [],
   "source": [
    "# Load data\n",
    "data = pd.read_csv(poll_data, parse_dates=True)"
   ]
  },
  {
   "cell_type": "code",
   "execution_count": 4,
   "metadata": {
    "collapsed": false
   },
   "outputs": [
    {
     "data": {
      "text/plain": [
       "<seaborn.axisgrid.FacetGrid at 0x1bffe9d0128>"
      ]
     },
     "execution_count": 4,
     "metadata": {},
     "output_type": "execute_result"
    },
    {
     "data": {
      "image/png": "[encoded data removed]",
      "text/plain": [
       "<matplotlib.figure.Figure at 0x1bffe9d0198>"
      ]
     },
     "metadata": {},
     "output_type": "display_data"
    }
   ],
   "source": [
    "sns.factorplot('partisan_affiliation',kind='count',data=data,\n",
    "               color='steelblue', size=6)"
   ]
  },
  {
   "cell_type": "code",
   "execution_count": 5,
   "metadata": {
    "collapsed": false
   },
   "outputs": [
    {
     "data": {
      "text/plain": [
       "<seaborn.axisgrid.FacetGrid at 0x1bffeaa1588>"
      ]
     },
     "execution_count": 5,
     "metadata": {},
     "output_type": "execute_result"
    },
    {
     "data": {
      "image/png": "[encoded data removed]",
      "text/plain": [
       "<matplotlib.figure.Figure at 0x1bffe9d04e0>"
      ]
     },
     "metadata": {},
     "output_type": "display_data"
    }
   ],
   "source": [
    "sns.factorplot('partisan_affiliation', kind='count', data=data,\n",
    "               hue='sample_subpopulation', palette='summer', size=6)"
   ]
  },
  {
   "cell_type": "code",
   "execution_count": 9,
   "metadata": {
    "collapsed": true
   },
   "outputs": [],
   "source": [
    "# Let's examine what the best polling data we have predicts.\n",
    "# We'll look at polls:\n",
    "#     a) Without party affiliation\n",
    "#     b) Of likely voters\n",
    "#     c) Shortly before the election\n",
    "\n",
    "unbiased = data[(data['partisan_affiliation'] == 'None') &\\\n",
    "                 (data['sample_subpopulation'] == 'Likely Voters') & \\\n",
    "                 (data['end_date'] >= '2016-11-01')].copy()"
   ]
  },
  {
   "cell_type": "code",
   "execution_count": 10,
   "metadata": {
    "collapsed": false
   },
   "outputs": [
    {
     "data": {
      "text/html": [
       "<div>\n",
       "<style scoped>\n",
       "    .dataframe tbody tr th:only-of-type {\n",
       "        vertical-align: middle;\n",
       "    }\n",
       "\n",
       "    .dataframe tbody tr th {\n",
       "        vertical-align: top;\n",
       "    }\n",
       "\n",
       "    .dataframe thead th {\n",
       "        text-align: right;\n",
       "    }\n",
       "</style>\n",
       "<table border=\"1\" class=\"dataframe\">\n",
       "  <thead>\n",
       "    <tr style=\"text-align: right;\">\n",
       "      <th></th>\n",
       "      <th>Trump</th>\n",
       "      <th>Clinton</th>\n",
       "      <th>Other</th>\n",
       "      <th>Undecided</th>\n",
       "      <th>poll_id</th>\n",
       "      <th>pollster</th>\n",
       "      <th>start_date</th>\n",
       "      <th>end_date</th>\n",
       "      <th>sample_subpopulation</th>\n",
       "      <th>sample_size</th>\n",
       "      <th>mode</th>\n",
       "      <th>partisanship</th>\n",
       "      <th>partisan_affiliation</th>\n",
       "      <th>clinton_sum</th>\n",
       "      <th>trump_sum</th>\n",
       "    </tr>\n",
       "  </thead>\n",
       "  <tbody>\n",
       "    <tr>\n",
       "      <th>0</th>\n",
       "      <td>43.0</td>\n",
       "      <td>46.0</td>\n",
       "      <td>5.0</td>\n",
       "      <td>6.0</td>\n",
       "      <td>26771</td>\n",
       "      <td>Bloomberg/Selzer</td>\n",
       "      <td>2016-11-04</td>\n",
       "      <td>2016-11-06</td>\n",
       "      <td>Likely Voters</td>\n",
       "      <td>799</td>\n",
       "      <td>Live Phone</td>\n",
       "      <td>Nonpartisan</td>\n",
       "      <td>None</td>\n",
       "      <td>367.54</td>\n",
       "      <td>343.57</td>\n",
       "    </tr>\n",
       "    <tr>\n",
       "      <th>1</th>\n",
       "      <td>39.0</td>\n",
       "      <td>44.0</td>\n",
       "      <td>9.0</td>\n",
       "      <td>8.0</td>\n",
       "      <td>26810</td>\n",
       "      <td>Ipsos/Reuters</td>\n",
       "      <td>2016-11-02</td>\n",
       "      <td>2016-11-06</td>\n",
       "      <td>Likely Voters</td>\n",
       "      <td>2195</td>\n",
       "      <td>Internet</td>\n",
       "      <td>Nonpartisan</td>\n",
       "      <td>None</td>\n",
       "      <td>965.80</td>\n",
       "      <td>856.05</td>\n",
       "    </tr>\n",
       "    <tr>\n",
       "      <th>2</th>\n",
       "      <td>43.0</td>\n",
       "      <td>47.0</td>\n",
       "      <td>5.0</td>\n",
       "      <td>5.0</td>\n",
       "      <td>26778</td>\n",
       "      <td>CBS/Times</td>\n",
       "      <td>2016-11-02</td>\n",
       "      <td>2016-11-06</td>\n",
       "      <td>Likely Voters</td>\n",
       "      <td>1426</td>\n",
       "      <td>Live Phone</td>\n",
       "      <td>Nonpartisan</td>\n",
       "      <td>None</td>\n",
       "      <td>670.22</td>\n",
       "      <td>613.18</td>\n",
       "    </tr>\n",
       "    <tr>\n",
       "      <th>3</th>\n",
       "      <td>46.0</td>\n",
       "      <td>49.0</td>\n",
       "      <td>5.0</td>\n",
       "      <td>NaN</td>\n",
       "      <td>26785</td>\n",
       "      <td>UPI/CVOTER</td>\n",
       "      <td>2016-10-31</td>\n",
       "      <td>2016-11-06</td>\n",
       "      <td>Likely Voters</td>\n",
       "      <td>1625</td>\n",
       "      <td>Internet</td>\n",
       "      <td>Nonpartisan</td>\n",
       "      <td>None</td>\n",
       "      <td>796.25</td>\n",
       "      <td>747.50</td>\n",
       "    </tr>\n",
       "    <tr>\n",
       "      <th>4</th>\n",
       "      <td>44.0</td>\n",
       "      <td>51.0</td>\n",
       "      <td>NaN</td>\n",
       "      <td>5.0</td>\n",
       "      <td>26770</td>\n",
       "      <td>NBC/SurveyMonkey</td>\n",
       "      <td>2016-10-31</td>\n",
       "      <td>2016-11-06</td>\n",
       "      <td>Likely Voters</td>\n",
       "      <td>70194</td>\n",
       "      <td>Internet</td>\n",
       "      <td>Nonpartisan</td>\n",
       "      <td>None</td>\n",
       "      <td>35798.94</td>\n",
       "      <td>30885.36</td>\n",
       "    </tr>\n",
       "  </tbody>\n",
       "</table>\n",
       "</div>"
      ],
      "text/plain": [
       "   Trump  Clinton  Other  Undecided  poll_id          pollster  start_date  \\\n",
       "0   43.0     46.0    5.0        6.0    26771  Bloomberg/Selzer  2016-11-04   \n",
       "1   39.0     44.0    9.0        8.0    26810     Ipsos/Reuters  2016-11-02   \n",
       "2   43.0     47.0    5.0        5.0    26778         CBS/Times  2016-11-02   \n",
       "3   46.0     49.0    5.0        NaN    26785        UPI/CVOTER  2016-10-31   \n",
       "4   44.0     51.0    NaN        5.0    26770  NBC/SurveyMonkey  2016-10-31   \n",
       "\n",
       "     end_date sample_subpopulation  sample_size        mode partisanship  \\\n",
       "0  2016-11-06        Likely Voters          799  Live Phone  Nonpartisan   \n",
       "1  2016-11-06        Likely Voters         2195    Internet  Nonpartisan   \n",
       "2  2016-11-06        Likely Voters         1426  Live Phone  Nonpartisan   \n",
       "3  2016-11-06        Likely Voters         1625    Internet  Nonpartisan   \n",
       "4  2016-11-06        Likely Voters        70194    Internet  Nonpartisan   \n",
       "\n",
       "  partisan_affiliation  clinton_sum  trump_sum  \n",
       "0                 None       367.54     343.57  \n",
       "1                 None       965.80     856.05  \n",
       "2                 None       670.22     613.18  \n",
       "3                 None       796.25     747.50  \n",
       "4                 None     35798.94   30885.36  "
      ]
     },
     "execution_count": 10,
     "metadata": {},
     "output_type": "execute_result"
    }
   ],
   "source": [
    "unbiased['clinton_sum'] = unbiased.Clinton * .01 * unbiased['sample_size']\n",
    "unbiased['trump_sum'] = unbiased.Trump * .01 * unbiased['sample_size']\n",
    "\n",
    "unbiased.head()"
   ]
  },
  {
   "cell_type": "code",
   "execution_count": 11,
   "metadata": {
    "collapsed": false
   },
   "outputs": [
    {
     "data": {
      "text/plain": [
       "array([0.53516625])"
      ]
     },
     "execution_count": 11,
     "metadata": {},
     "output_type": "execute_result"
    }
   ],
   "source": [
    "unbiased['clinton_sum'].sum() / (unbiased['clinton_sum'].sum() + unbiased['trump_sum'].sum(), )"
   ]
  },
  {
   "cell_type": "code",
   "execution_count": 12,
   "metadata": {
    "collapsed": false
   },
   "outputs": [
    {
     "data": {
      "text/plain": [
       "array([0.46483375])"
      ]
     },
     "execution_count": 12,
     "metadata": {},
     "output_type": "execute_result"
    }
   ],
   "source": [
    "unbiased['trump_sum'].sum() / (unbiased['clinton_sum'].sum() + unbiased['trump_sum'].sum(), )"
   ]
  },
  {
   "cell_type": "code",
   "execution_count": 13,
   "metadata": {
    "collapsed": false
   },
   "outputs": [
    {
     "data": {
      "text/html": [
       "<div>\n",
       "<style scoped>\n",
       "    .dataframe tbody tr th:only-of-type {\n",
       "        vertical-align: middle;\n",
       "    }\n",
       "\n",
       "    .dataframe tbody tr th {\n",
       "        vertical-align: top;\n",
       "    }\n",
       "\n",
       "    .dataframe thead th {\n",
       "        text-align: right;\n",
       "    }\n",
       "</style>\n",
       "<table border=\"1\" class=\"dataframe\">\n",
       "  <thead>\n",
       "    <tr style=\"text-align: right;\">\n",
       "      <th></th>\n",
       "      <th>0</th>\n",
       "      <th>1</th>\n",
       "    </tr>\n",
       "  </thead>\n",
       "  <tbody>\n",
       "    <tr>\n",
       "      <th>Clinton</th>\n",
       "      <td>47.142857</td>\n",
       "      <td>2.267787</td>\n",
       "    </tr>\n",
       "    <tr>\n",
       "      <th>Trump</th>\n",
       "      <td>43.285714</td>\n",
       "      <td>2.138090</td>\n",
       "    </tr>\n",
       "  </tbody>\n",
       "</table>\n",
       "</div>"
      ],
      "text/plain": [
       "                 0         1\n",
       "Clinton  47.142857  2.267787\n",
       "Trump    43.285714  2.138090"
      ]
     },
     "execution_count": 13,
     "metadata": {},
     "output_type": "execute_result"
    }
   ],
   "source": [
    "unbiased_df = pd.DataFrame({'Clinton': [unbiased['Clinton'].mean(), unbiased['Clinton'].std()],\n",
    "                         'Trump': [unbiased['Trump'].mean(), unbiased['Trump'].std()]})\n",
    "\n",
    "unbiased_df = unbiased_df.transpose()\n",
    "unbiased_df"
   ]
  },
  {
   "cell_type": "code",
   "execution_count": 14,
   "metadata": {
    "collapsed": false
   },
   "outputs": [
    {
     "data": {
      "text/html": [
       "<div>\n",
       "<style scoped>\n",
       "    .dataframe tbody tr th:only-of-type {\n",
       "        vertical-align: middle;\n",
       "    }\n",
       "\n",
       "    .dataframe tbody tr th {\n",
       "        vertical-align: top;\n",
       "    }\n",
       "\n",
       "    .dataframe thead th {\n",
       "        text-align: right;\n",
       "    }\n",
       "</style>\n",
       "<table border=\"1\" class=\"dataframe\">\n",
       "  <thead>\n",
       "    <tr style=\"text-align: right;\">\n",
       "      <th></th>\n",
       "      <th>Percent</th>\n",
       "      <th>Stdev</th>\n",
       "    </tr>\n",
       "  </thead>\n",
       "  <tbody>\n",
       "    <tr>\n",
       "      <th>Clinton</th>\n",
       "      <td>47.142857</td>\n",
       "      <td>2.267787</td>\n",
       "    </tr>\n",
       "    <tr>\n",
       "      <th>Trump</th>\n",
       "      <td>43.285714</td>\n",
       "      <td>2.138090</td>\n",
       "    </tr>\n",
       "  </tbody>\n",
       "</table>\n",
       "</div>"
      ],
      "text/plain": [
       "           Percent     Stdev\n",
       "Clinton  47.142857  2.267787\n",
       "Trump    43.285714  2.138090"
      ]
     },
     "execution_count": 14,
     "metadata": {},
     "output_type": "execute_result"
    }
   ],
   "source": [
    "unbiased_df = pd.DataFrame({'Clinton': [unbiased['Clinton'].mean(), unbiased['Clinton'].std()],\n",
    "                         'Trump': [unbiased['Trump'].mean(), unbiased['Trump'].std()]},\n",
    "                        index=['Percent','Stdev'])\n",
    "\n",
    "unbiased_df = unbiased_df.transpose()\n",
    "unbiased_df"
   ]
  },
  {
   "cell_type": "code",
   "execution_count": 16,
   "metadata": {
    "collapsed": false
   },
   "outputs": [
    {
     "data": {
      "text/plain": [
       "<matplotlib.axes._subplots.AxesSubplot at 0x1bffeedc400>"
      ]
     },
     "execution_count": 16,
     "metadata": {},
     "output_type": "execute_result"
    },
    {
     "data": {
      "image/png": "[encoded data removed]",
      "text/plain": [
       "<matplotlib.figure.Figure at 0x1bffeecca90>"
      ]
     },
     "metadata": {},
     "output_type": "display_data"
    }
   ],
   "source": [
    "sns.barplot(y='Percent', data=unbiased_df)"
   ]
  },
  {
   "cell_type": "code",
   "execution_count": 93,
   "metadata": {
    "collapsed": false
   },
   "outputs": [
    {
     "data": {
      "text/plain": [
       "(array([0, 1]), <a list of 2 Text xticklabel objects>)"
      ]
     },
     "execution_count": 93,
     "metadata": {},
     "output_type": "execute_result"
    },
    {
     "data": {
      "image/png": "[encoded data removed]",
      "text/plain": [
       "<matplotlib.figure.Figure at 0x18215313fd0>"
      ]
     },
     "metadata": {},
     "output_type": "display_data"
    }
   ],
   "source": [
    "# now plot using pandas built-in plot, with kind='bar' and yerr='std'\n",
    "\n",
    "unbiased_df['Percent'].plot(yerr = unbiased_df['Stdev'],\n",
    "                            kind = 'bar',\n",
    "                            legend = False)\n",
    "\n",
    "plt.ylabel('Percent')\n",
    "plt.title('Popular Vote')\n",
    "plt.xticks(rotation=0)"
   ]
  },
  {
   "cell_type": "markdown",
   "metadata": {},
   "source": [
    "# My analysis"
   ]
  },
  {
   "cell_type": "code",
   "execution_count": 17,
   "metadata": {
    "collapsed": false
   },
   "outputs": [
    {
     "data": {
      "text/html": [
       "<div>\n",
       "<style scoped>\n",
       "    .dataframe tbody tr th:only-of-type {\n",
       "        vertical-align: middle;\n",
       "    }\n",
       "\n",
       "    .dataframe tbody tr th {\n",
       "        vertical-align: top;\n",
       "    }\n",
       "\n",
       "    .dataframe thead th {\n",
       "        text-align: right;\n",
       "    }\n",
       "</style>\n",
       "<table border=\"1\" class=\"dataframe\">\n",
       "  <thead>\n",
       "    <tr style=\"text-align: right;\">\n",
       "      <th></th>\n",
       "      <th>Trump</th>\n",
       "      <th>Clinton</th>\n",
       "      <th>Other</th>\n",
       "      <th>Undecided</th>\n",
       "      <th>poll_id</th>\n",
       "      <th>pollster</th>\n",
       "      <th>start_date</th>\n",
       "      <th>end_date</th>\n",
       "      <th>sample_subpopulation</th>\n",
       "      <th>sample_size</th>\n",
       "      <th>mode</th>\n",
       "      <th>partisanship</th>\n",
       "      <th>partisan_affiliation</th>\n",
       "    </tr>\n",
       "  </thead>\n",
       "  <tbody>\n",
       "    <tr>\n",
       "      <th>0</th>\n",
       "      <td>43.0</td>\n",
       "      <td>46.0</td>\n",
       "      <td>5.0</td>\n",
       "      <td>6.0</td>\n",
       "      <td>26771</td>\n",
       "      <td>Bloomberg/Selzer</td>\n",
       "      <td>2016-11-04</td>\n",
       "      <td>2016-11-06</td>\n",
       "      <td>Likely Voters</td>\n",
       "      <td>799</td>\n",
       "      <td>Live Phone</td>\n",
       "      <td>Nonpartisan</td>\n",
       "      <td>None</td>\n",
       "    </tr>\n",
       "    <tr>\n",
       "      <th>1</th>\n",
       "      <td>39.0</td>\n",
       "      <td>44.0</td>\n",
       "      <td>9.0</td>\n",
       "      <td>8.0</td>\n",
       "      <td>26810</td>\n",
       "      <td>Ipsos/Reuters</td>\n",
       "      <td>2016-11-02</td>\n",
       "      <td>2016-11-06</td>\n",
       "      <td>Likely Voters</td>\n",
       "      <td>2195</td>\n",
       "      <td>Internet</td>\n",
       "      <td>Nonpartisan</td>\n",
       "      <td>None</td>\n",
       "    </tr>\n",
       "    <tr>\n",
       "      <th>2</th>\n",
       "      <td>43.0</td>\n",
       "      <td>47.0</td>\n",
       "      <td>5.0</td>\n",
       "      <td>5.0</td>\n",
       "      <td>26778</td>\n",
       "      <td>CBS/Times</td>\n",
       "      <td>2016-11-02</td>\n",
       "      <td>2016-11-06</td>\n",
       "      <td>Likely Voters</td>\n",
       "      <td>1426</td>\n",
       "      <td>Live Phone</td>\n",
       "      <td>Nonpartisan</td>\n",
       "      <td>None</td>\n",
       "    </tr>\n",
       "    <tr>\n",
       "      <th>3</th>\n",
       "      <td>46.0</td>\n",
       "      <td>49.0</td>\n",
       "      <td>5.0</td>\n",
       "      <td>NaN</td>\n",
       "      <td>26785</td>\n",
       "      <td>UPI/CVOTER</td>\n",
       "      <td>2016-10-31</td>\n",
       "      <td>2016-11-06</td>\n",
       "      <td>Likely Voters</td>\n",
       "      <td>1625</td>\n",
       "      <td>Internet</td>\n",
       "      <td>Nonpartisan</td>\n",
       "      <td>None</td>\n",
       "    </tr>\n",
       "    <tr>\n",
       "      <th>4</th>\n",
       "      <td>44.0</td>\n",
       "      <td>51.0</td>\n",
       "      <td>NaN</td>\n",
       "      <td>5.0</td>\n",
       "      <td>26770</td>\n",
       "      <td>NBC/SurveyMonkey</td>\n",
       "      <td>2016-10-31</td>\n",
       "      <td>2016-11-06</td>\n",
       "      <td>Likely Voters</td>\n",
       "      <td>70194</td>\n",
       "      <td>Internet</td>\n",
       "      <td>Nonpartisan</td>\n",
       "      <td>None</td>\n",
       "    </tr>\n",
       "  </tbody>\n",
       "</table>\n",
       "</div>"
      ],
      "text/plain": [
       "   Trump  Clinton  Other  Undecided  poll_id          pollster  start_date  \\\n",
       "0   43.0     46.0    5.0        6.0    26771  Bloomberg/Selzer  2016-11-04   \n",
       "1   39.0     44.0    9.0        8.0    26810     Ipsos/Reuters  2016-11-02   \n",
       "2   43.0     47.0    5.0        5.0    26778         CBS/Times  2016-11-02   \n",
       "3   46.0     49.0    5.0        NaN    26785        UPI/CVOTER  2016-10-31   \n",
       "4   44.0     51.0    NaN        5.0    26770  NBC/SurveyMonkey  2016-10-31   \n",
       "\n",
       "     end_date sample_subpopulation  sample_size        mode partisanship  \\\n",
       "0  2016-11-06        Likely Voters          799  Live Phone  Nonpartisan   \n",
       "1  2016-11-06        Likely Voters         2195    Internet  Nonpartisan   \n",
       "2  2016-11-06        Likely Voters         1426  Live Phone  Nonpartisan   \n",
       "3  2016-11-06        Likely Voters         1625    Internet  Nonpartisan   \n",
       "4  2016-11-06        Likely Voters        70194    Internet  Nonpartisan   \n",
       "\n",
       "  partisan_affiliation  \n",
       "0                 None  \n",
       "1                 None  \n",
       "2                 None  \n",
       "3                 None  \n",
       "4                 None  "
      ]
     },
     "execution_count": 17,
     "metadata": {},
     "output_type": "execute_result"
    }
   ],
   "source": [
    "data.head()"
   ]
  },
  {
   "cell_type": "code",
   "execution_count": 18,
   "metadata": {
    "collapsed": false
   },
   "outputs": [
    {
     "data": {
      "text/html": [
       "<div>\n",
       "<style scoped>\n",
       "    .dataframe tbody tr th:only-of-type {\n",
       "        vertical-align: middle;\n",
       "    }\n",
       "\n",
       "    .dataframe tbody tr th {\n",
       "        vertical-align: top;\n",
       "    }\n",
       "\n",
       "    .dataframe thead th {\n",
       "        text-align: right;\n",
       "    }\n",
       "</style>\n",
       "<table border=\"1\" class=\"dataframe\">\n",
       "  <thead>\n",
       "    <tr style=\"text-align: right;\">\n",
       "      <th></th>\n",
       "      <th>Trump</th>\n",
       "      <th>Clinton</th>\n",
       "      <th>Other</th>\n",
       "      <th>Undecided</th>\n",
       "      <th>poll_id</th>\n",
       "      <th>pollster</th>\n",
       "      <th>start_date</th>\n",
       "      <th>end_date</th>\n",
       "      <th>sample_subpopulation</th>\n",
       "      <th>sample_size</th>\n",
       "      <th>mode</th>\n",
       "      <th>partisanship</th>\n",
       "      <th>partisan_affiliation</th>\n",
       "    </tr>\n",
       "  </thead>\n",
       "  <tbody>\n",
       "    <tr>\n",
       "      <th>0</th>\n",
       "      <td>43.0</td>\n",
       "      <td>46.0</td>\n",
       "      <td>5.0</td>\n",
       "      <td>6.0</td>\n",
       "      <td>26771</td>\n",
       "      <td>Bloomberg/Selzer</td>\n",
       "      <td>2016-11-04</td>\n",
       "      <td>2016-11-06</td>\n",
       "      <td>Likely Voters</td>\n",
       "      <td>799</td>\n",
       "      <td>Live Phone</td>\n",
       "      <td>Nonpartisan</td>\n",
       "      <td>None</td>\n",
       "    </tr>\n",
       "    <tr>\n",
       "      <th>1</th>\n",
       "      <td>39.0</td>\n",
       "      <td>44.0</td>\n",
       "      <td>9.0</td>\n",
       "      <td>8.0</td>\n",
       "      <td>26810</td>\n",
       "      <td>Ipsos/Reuters</td>\n",
       "      <td>2016-11-02</td>\n",
       "      <td>2016-11-06</td>\n",
       "      <td>Likely Voters</td>\n",
       "      <td>2195</td>\n",
       "      <td>Internet</td>\n",
       "      <td>Nonpartisan</td>\n",
       "      <td>None</td>\n",
       "    </tr>\n",
       "    <tr>\n",
       "      <th>2</th>\n",
       "      <td>43.0</td>\n",
       "      <td>47.0</td>\n",
       "      <td>5.0</td>\n",
       "      <td>5.0</td>\n",
       "      <td>26778</td>\n",
       "      <td>CBS/Times</td>\n",
       "      <td>2016-11-02</td>\n",
       "      <td>2016-11-06</td>\n",
       "      <td>Likely Voters</td>\n",
       "      <td>1426</td>\n",
       "      <td>Live Phone</td>\n",
       "      <td>Nonpartisan</td>\n",
       "      <td>None</td>\n",
       "    </tr>\n",
       "    <tr>\n",
       "      <th>3</th>\n",
       "      <td>46.0</td>\n",
       "      <td>49.0</td>\n",
       "      <td>5.0</td>\n",
       "      <td>NaN</td>\n",
       "      <td>26785</td>\n",
       "      <td>UPI/CVOTER</td>\n",
       "      <td>2016-10-31</td>\n",
       "      <td>2016-11-06</td>\n",
       "      <td>Likely Voters</td>\n",
       "      <td>1625</td>\n",
       "      <td>Internet</td>\n",
       "      <td>Nonpartisan</td>\n",
       "      <td>None</td>\n",
       "    </tr>\n",
       "    <tr>\n",
       "      <th>4</th>\n",
       "      <td>44.0</td>\n",
       "      <td>51.0</td>\n",
       "      <td>NaN</td>\n",
       "      <td>5.0</td>\n",
       "      <td>26770</td>\n",
       "      <td>NBC/SurveyMonkey</td>\n",
       "      <td>2016-10-31</td>\n",
       "      <td>2016-11-06</td>\n",
       "      <td>Likely Voters</td>\n",
       "      <td>70194</td>\n",
       "      <td>Internet</td>\n",
       "      <td>Nonpartisan</td>\n",
       "      <td>None</td>\n",
       "    </tr>\n",
       "    <tr>\n",
       "      <th>5</th>\n",
       "      <td>44.0</td>\n",
       "      <td>46.0</td>\n",
       "      <td>8.0</td>\n",
       "      <td>2.0</td>\n",
       "      <td>26734</td>\n",
       "      <td>McClatchy/Marist</td>\n",
       "      <td>2016-11-01</td>\n",
       "      <td>2016-11-03</td>\n",
       "      <td>Likely Voters</td>\n",
       "      <td>940</td>\n",
       "      <td>Live Phone</td>\n",
       "      <td>Nonpartisan</td>\n",
       "      <td>None</td>\n",
       "    </tr>\n",
       "    <tr>\n",
       "      <th>6</th>\n",
       "      <td>44.0</td>\n",
       "      <td>47.0</td>\n",
       "      <td>5.0</td>\n",
       "      <td>5.0</td>\n",
       "      <td>26647</td>\n",
       "      <td>CBS/Times</td>\n",
       "      <td>2016-10-28</td>\n",
       "      <td>2016-11-01</td>\n",
       "      <td>Likely Voters</td>\n",
       "      <td>1333</td>\n",
       "      <td>Live Phone</td>\n",
       "      <td>Nonpartisan</td>\n",
       "      <td>None</td>\n",
       "    </tr>\n",
       "    <tr>\n",
       "      <th>8</th>\n",
       "      <td>43.0</td>\n",
       "      <td>46.0</td>\n",
       "      <td>NaN</td>\n",
       "      <td>11.0</td>\n",
       "      <td>26556</td>\n",
       "      <td>Politico/Morning Consult</td>\n",
       "      <td>2016-10-29</td>\n",
       "      <td>2016-10-30</td>\n",
       "      <td>Likely Voters</td>\n",
       "      <td>1772</td>\n",
       "      <td>Internet</td>\n",
       "      <td>Nonpartisan</td>\n",
       "      <td>None</td>\n",
       "    </tr>\n",
       "    <tr>\n",
       "      <th>9</th>\n",
       "      <td>47.0</td>\n",
       "      <td>52.0</td>\n",
       "      <td>NaN</td>\n",
       "      <td>1.0</td>\n",
       "      <td>26662</td>\n",
       "      <td>Politico/Morning Consult</td>\n",
       "      <td>2016-10-27</td>\n",
       "      <td>2016-10-30</td>\n",
       "      <td>Likely Voters</td>\n",
       "      <td>1249</td>\n",
       "      <td>Live Phone</td>\n",
       "      <td>Nonpartisan</td>\n",
       "      <td>None</td>\n",
       "    </tr>\n",
       "    <tr>\n",
       "      <th>10</th>\n",
       "      <td>48.0</td>\n",
       "      <td>49.0</td>\n",
       "      <td>3.0</td>\n",
       "      <td>NaN</td>\n",
       "      <td>26598</td>\n",
       "      <td>UPI/CVOTER</td>\n",
       "      <td>2016-10-24</td>\n",
       "      <td>2016-10-30</td>\n",
       "      <td>Likely Voters</td>\n",
       "      <td>1299</td>\n",
       "      <td>Internet</td>\n",
       "      <td>Nonpartisan</td>\n",
       "      <td>None</td>\n",
       "    </tr>\n",
       "  </tbody>\n",
       "</table>\n",
       "</div>"
      ],
      "text/plain": [
       "    Trump  Clinton  Other  Undecided  poll_id                  pollster  \\\n",
       "0    43.0     46.0    5.0        6.0    26771          Bloomberg/Selzer   \n",
       "1    39.0     44.0    9.0        8.0    26810             Ipsos/Reuters   \n",
       "2    43.0     47.0    5.0        5.0    26778                 CBS/Times   \n",
       "3    46.0     49.0    5.0        NaN    26785                UPI/CVOTER   \n",
       "4    44.0     51.0    NaN        5.0    26770          NBC/SurveyMonkey   \n",
       "5    44.0     46.0    8.0        2.0    26734          McClatchy/Marist   \n",
       "6    44.0     47.0    5.0        5.0    26647                 CBS/Times   \n",
       "8    43.0     46.0    NaN       11.0    26556  Politico/Morning Consult   \n",
       "9    47.0     52.0    NaN        1.0    26662  Politico/Morning Consult   \n",
       "10   48.0     49.0    3.0        NaN    26598                UPI/CVOTER   \n",
       "\n",
       "    start_date    end_date sample_subpopulation  sample_size        mode  \\\n",
       "0   2016-11-04  2016-11-06        Likely Voters          799  Live Phone   \n",
       "1   2016-11-02  2016-11-06        Likely Voters         2195    Internet   \n",
       "2   2016-11-02  2016-11-06        Likely Voters         1426  Live Phone   \n",
       "3   2016-10-31  2016-11-06        Likely Voters         1625    Internet   \n",
       "4   2016-10-31  2016-11-06        Likely Voters        70194    Internet   \n",
       "5   2016-11-01  2016-11-03        Likely Voters          940  Live Phone   \n",
       "6   2016-10-28  2016-11-01        Likely Voters         1333  Live Phone   \n",
       "8   2016-10-29  2016-10-30        Likely Voters         1772    Internet   \n",
       "9   2016-10-27  2016-10-30        Likely Voters         1249  Live Phone   \n",
       "10  2016-10-24  2016-10-30        Likely Voters         1299    Internet   \n",
       "\n",
       "   partisanship partisan_affiliation  \n",
       "0   Nonpartisan                 None  \n",
       "1   Nonpartisan                 None  \n",
       "2   Nonpartisan                 None  \n",
       "3   Nonpartisan                 None  \n",
       "4   Nonpartisan                 None  \n",
       "5   Nonpartisan                 None  \n",
       "6   Nonpartisan                 None  \n",
       "8   Nonpartisan                 None  \n",
       "9   Nonpartisan                 None  \n",
       "10  Nonpartisan                 None  "
      ]
     },
     "execution_count": 18,
     "metadata": {},
     "output_type": "execute_result"
    }
   ],
   "source": [
    "data_new = data[(data.partisanship == 'Nonpartisan') & (data.sample_subpopulation == 'Likely Voters')]\n",
    "\n",
    "data_new.head(10)"
   ]
  },
  {
   "cell_type": "code",
   "execution_count": 19,
   "metadata": {
    "collapsed": true
   },
   "outputs": [],
   "source": [
    "data_new = data.head(6).copy()"
   ]
  },
  {
   "cell_type": "code",
   "execution_count": 20,
   "metadata": {
    "collapsed": false
   },
   "outputs": [],
   "source": [
    "data_new['trump_voters'] = ((.01 * data_new.Trump) * data_new.sample_size)\n",
    "data_new['clinton_voters'] = ((.01 * data_new.Clinton) * data_new.sample_size)\n",
    "data_new['other_voters'] = ((.01 * data_new.Other) * data_new.sample_size)"
   ]
  },
  {
   "cell_type": "code",
   "execution_count": 21,
   "metadata": {
    "collapsed": false
   },
   "outputs": [],
   "source": [
    "trump = sum(data_new['trump_voters'])/sum(data_new.sample_size)"
   ]
  },
  {
   "cell_type": "code",
   "execution_count": 22,
   "metadata": {
    "collapsed": false
   },
   "outputs": [],
   "source": [
    "clinton = sum(data_new['clinton_voters'])/sum(data_new.sample_size)"
   ]
  },
  {
   "cell_type": "code",
   "execution_count": 23,
   "metadata": {
    "collapsed": false
   },
   "outputs": [],
   "source": [
    "other = sum(data_new['other_voters'])/sum(data_new.sample_size)"
   ]
  },
  {
   "cell_type": "code",
   "execution_count": 24,
   "metadata": {
    "collapsed": false
   },
   "outputs": [
    {
     "data": {
      "text/plain": [
       "0.5320809600786088"
      ]
     },
     "execution_count": 24,
     "metadata": {},
     "output_type": "execute_result"
    }
   ],
   "source": [
    "clinton/(clinton + trump + other)"
   ]
  },
  {
   "cell_type": "code",
   "execution_count": 25,
   "metadata": {
    "collapsed": false
   },
   "outputs": [
    {
     "data": {
      "text/plain": [
       "0.4615766527081891"
      ]
     },
     "execution_count": 25,
     "metadata": {},
     "output_type": "execute_result"
    }
   ],
   "source": [
    "trump/(clinton + trump + other)"
   ]
  },
  {
   "cell_type": "markdown",
   "metadata": {},
   "source": [
    "# Monte Carlo simulation"
   ]
  },
  {
   "cell_type": "code",
   "execution_count": 26,
   "metadata": {
    "collapsed": false
   },
   "outputs": [
    {
     "data": {
      "text/html": [
       "<div>\n",
       "<style scoped>\n",
       "    .dataframe tbody tr th:only-of-type {\n",
       "        vertical-align: middle;\n",
       "    }\n",
       "\n",
       "    .dataframe tbody tr th {\n",
       "        vertical-align: top;\n",
       "    }\n",
       "\n",
       "    .dataframe thead th {\n",
       "        text-align: right;\n",
       "    }\n",
       "</style>\n",
       "<table border=\"1\" class=\"dataframe\">\n",
       "  <thead>\n",
       "    <tr style=\"text-align: right;\">\n",
       "      <th></th>\n",
       "      <th>Percent</th>\n",
       "      <th>Stdev</th>\n",
       "    </tr>\n",
       "  </thead>\n",
       "  <tbody>\n",
       "    <tr>\n",
       "      <th>Clinton</th>\n",
       "      <td>47.142857</td>\n",
       "      <td>2.267787</td>\n",
       "    </tr>\n",
       "    <tr>\n",
       "      <th>Trump</th>\n",
       "      <td>43.285714</td>\n",
       "      <td>2.138090</td>\n",
       "    </tr>\n",
       "  </tbody>\n",
       "</table>\n",
       "</div>"
      ],
      "text/plain": [
       "           Percent     Stdev\n",
       "Clinton  47.142857  2.267787\n",
       "Trump    43.285714  2.138090"
      ]
     },
     "execution_count": 26,
     "metadata": {},
     "output_type": "execute_result"
    }
   ],
   "source": [
    "unbiased_df"
   ]
  },
  {
   "cell_type": "code",
   "execution_count": 40,
   "metadata": {
    "collapsed": false
   },
   "outputs": [],
   "source": [
    "distro = []\n",
    "for i in range(100000):\n",
    "    c = np.random.normal(\n",
    "        loc=unbiased_df['Percent']['Clinton'], scale=unbiased_df['Stdev']['Clinton'])\n",
    "    t = np.random.normal(\n",
    "        loc=unbiased_df['Percent']['Trump'], scale=unbiased_df['Stdev']['Trump'])\n",
    "    distro.append([c,t])"
   ]
  },
  {
   "cell_type": "code",
   "execution_count": 41,
   "metadata": {
    "collapsed": false
   },
   "outputs": [],
   "source": [
    "results = pd.DataFrame(distro, columns=['Clinton', 'Trump'])"
   ]
  },
  {
   "cell_type": "code",
   "execution_count": 42,
   "metadata": {
    "collapsed": false
   },
   "outputs": [
    {
     "data": {
      "text/plain": [
       "0.8906"
      ]
     },
     "execution_count": 42,
     "metadata": {},
     "output_type": "execute_result"
    }
   ],
   "source": [
    "clinton_wins = np.where(results['Clinton'] > results['Trump'], 1, 0)\n",
    "\n",
    "clinton_wins.mean()"
   ]
  }
 ],
 "metadata": {
  "kernelspec": {
   "display_name": "Python 3",
   "language": "python",
   "name": "python3"
  },
  "language_info": {
   "codemirror_mode": {
    "name": "ipython",
    "version": 3
   },
   "file_extension": ".py",
   "mimetype": "text/x-python",
   "name": "python",
   "nbconvert_exporter": "python",
   "pygments_lexer": "ipython3",
   "version": "3.6.0"
  }
 },
 "nbformat": 4,
 "nbformat_minor": 0
}
