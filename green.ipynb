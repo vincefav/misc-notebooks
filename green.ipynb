{
 "cells": [
  {
   "cell_type": "code",
   "execution_count": 22,
   "metadata": {
    "collapsed": false,
    "deletable": true,
    "editable": true
   },
   "outputs": [
    {
     "name": "stdout",
     "output_type": "stream",
     "text": [
      "Populating the interactive namespace from numpy and matplotlib\n",
      "Populating the interactive namespace from numpy and matplotlib\n"
     ]
    }
   ],
   "source": [
    "import pandas as pd\n",
    "import numpy as np\n",
    "\n",
    "\n",
    "%pylab inline\n",
    "\n",
    "import pandas as pd\n",
    "import numpy as np\n",
    "import matplotlib.pyplot as plt\n",
    "import datetime\n",
    "import seaborn as sns\n",
    "import time\n",
    "\n",
    "from sklearn.model_selection import train_test_split, cross_val_score, GridSearchCV\n",
    "from sklearn.metrics import roc_auc_score\n",
    "\n",
    "%pylab inline\n",
    "data=None\n",
    "def absolute_correlations(col, df=data):\n",
    "    #absolute_values = np.abs(df[col])\n",
    "    corrs = pd.DataFrame(df.select_dtypes(include=[np.number]).corrwith(df[col]), columns=['correlation'])\n",
    "    corrs['absol'] = np.abs(corrs['correlation'])\n",
    "    return corrs.sort_values('absol', ascending=False).drop('absol', axis=1).tail(len(corrs)-1)\n",
    "\n",
    "def numeric(self):\n",
    "    '''Monkey-patches numeric features'''\n",
    "    return self.select_dtypes(include=[np.number])\n",
    "pd.DataFrame.numeric = numeric"
   ]
  },
  {
   "cell_type": "code",
   "execution_count": 23,
   "metadata": {
    "collapsed": false
   },
   "outputs": [],
   "source": [
    "# data = pd.DataFrame()\n",
    "\n",
    "from warnings import filterwarnings\n",
    "filterwarnings('ignore')"
   ]
  },
  {
   "cell_type": "code",
   "execution_count": 24,
   "metadata": {
    "collapsed": false
   },
   "outputs": [],
   "source": [
    "data = pd.read_csv('magic_stompy2018.csv')\n",
    "data = data[[i for i in data.columns if 'Unnamed' not in i]]\n",
    "\n",
    "meta_stats = ['won', 'life', 'opponents_life', 'deck', 'deck_size', 'computer', 'starting_lands', 'opponents_level']\n",
    "cards = [i for i in data.columns if i not in meta_stats]"
   ]
  },
  {
   "cell_type": "code",
   "execution_count": 70,
   "metadata": {
    "collapsed": false,
    "deletable": true,
    "editable": true
   },
   "outputs": [],
   "source": [
    "# Timestamp\n",
    "now = len(data)\n",
    "\n",
    "# How close I got to winning\n",
    "data.set_value(now, 'won', 0)\n",
    "data.set_value(now, 'life', 0)\n",
    "data.set_value(now, 'opponents_life', 6)\n",
    "data.set_value(now, 'deck_size', 60)\n",
    "data.set_value(now, 'starting lands', 2)\n",
    "data.set_value(now, 'land rating', 3)\n",
    "data.set_value(now, 'archetype', '')\n",
    "\n",
    "# creatures\n",
    "data.set_value(now, 'drover of the mighty', 0)\n",
    "data.set_value(now, 'druid of the cowl', 0)\n",
    "data.set_value(now, 'feral prowler', 0)\n",
    "data.set_value(now, 'dryad greenseeker', 0)\n",
    "data.set_value(now, 'greenbelt rampager', 0)\n",
    "data.set_value(now, 'initiates companion', 0)\n",
    "data.set_value(now, 'llanowar elves', 1)\n",
    "data.set_value(now, 'mouth', 0)\n",
    "data.set_value(now, 'old growth dryads', 0)\n",
    "data.set_value(now, 'rishkar', 0)\n",
    "data.set_value(now, 'ripjaw raptor', 1)\n",
    "data.set_value(now, 'steel life champion', 0)\n",
    "data.set_value(now, 'thrashing brontodon', 1)\n",
    "data.set_value(now, 'vine mare', 1)\n",
    "data.set_value(now, 'walking ballista', 0)\n",
    "\n",
    "# Artifacts\n",
    "data.set_value(now, 'aethersphere harvester', 0)\n",
    "data.set_value(now, 'lifecrafters bestiary', 0)\n",
    "data.set_value(now, 'skysovereign', 1)\n",
    "data.set_value(now, 'scrapheap scrounger', 1)\n",
    "data.set_value(now, 'heart of kiran', 1)\n",
    "\n",
    "# Spells\n",
    "data.set_value(now, 'adventurous impulse', 0)\n",
    "data.set_value(now, 'blanchwood armor', 0)\n",
    "data.set_value(now, 'blossoming defense', 0)\n",
    "data.set_value(now, 'cartouche of strength', 0)\n",
    "data.set_value(now, 'colossal majesty', 0)\n",
    "data.set_value(now, 'natures way', 0)\n",
    "data.set_value(now, 'plummet', 0)\n",
    "data.set_value(now, 'rabid bite', 0)\n",
    "data.set_value(now, 'rishkars expertise', 0)\n",
    "data.set_value(now, 'savage stomp', 0)\n",
    "data.set_value(now, 'song of freyalise', 0)\n",
    "data.set_value(now, 'thunderherd migration', 0)\n",
    "data.set_value(now, 'titanic growth', 0)\n",
    "\n",
    "data.set_value(now, 'verdant rebirth', 0)\n",
    "data.set_value(now, 'vivien reid', 0)\n",
    "\n",
    "# Big boys\n",
    "data.set_value(now, 'aggressive mamoth', 0)\n",
    "data.set_value(now, 'ghalta', 1)\n",
    "data.set_value(now, 'gigantosaurus', 0)\n",
    "data.set_value(now, 'majestic myriarch', 0)\n",
    "data.set_value(now, 'rhonas', 0)\n",
    "data.set_value(now, 'scaled behemoth', 0)\n",
    "data.set_value(now, 'shalai', 0)\n",
    "data.set_value(now, 'verdurous gearhulk', 0)\n",
    "data = data.fillna(0.)\n",
    "\n",
    "data.to_csv('magic_stompy2018.csv')"
   ]
  },
  {
   "cell_type": "code",
   "execution_count": 71,
   "metadata": {
    "collapsed": false
   },
   "outputs": [
    {
     "data": {
      "text/plain": [
       "won                        0.514706\n",
       "life                       8.139706\n",
       "opponents_life             8.750000\n",
       "deck_size                 60.000000\n",
       "starting lands             2.794118\n",
       "druid of the cowl          0.102941\n",
       "llanowar elves             0.867647\n",
       "steel life champion        0.897059\n",
       "vine mare                  0.882353\n",
       "blanchwood armor           0.088235\n",
       "lifecrafters bestiary      0.235294\n",
       "natures way                0.102941\n",
       "plummet                    0.191176\n",
       "rabid bite                 0.485294\n",
       "titanic growth             0.102941\n",
       "verdant rebirth            0.161765\n",
       "gigantosaurus              0.308824\n",
       "majestic myriarch          0.102941\n",
       "verdurous gearhulk         0.073529\n",
       "scaled behemoth            0.073529\n",
       "ghalta                     0.264706\n",
       "land rating                3.029412\n",
       "walking ballista           0.117647\n",
       "colossal majesty           0.411765\n",
       "aggressive mamoth          0.000000\n",
       "rhonas                     0.367647\n",
       "mouth                      0.000000\n",
       "blossoming defense         0.558824\n",
       "greenbelt rampager         0.073529\n",
       "feral prowler              0.058824\n",
       "thrashing brontodon        0.323529\n",
       "skysovereign               0.102941\n",
       "aethersphere harvester     0.279412\n",
       "song of freyalise          0.014706\n",
       "scrapheap scrounger        0.308824\n",
       "dryad greenseeker          0.235294\n",
       "shalai                     0.073529\n",
       "cartouche of strength      0.117647\n",
       "drover of the mighty       0.058824\n",
       "rishkar                    0.029412\n",
       "vivien reid                0.000000\n",
       "rishkars expertise         0.029412\n",
       "savage stomp               0.029412\n",
       "thunderherd migration      0.014706\n",
       "initiates companion        0.088235\n",
       "old growth dryads          0.014706\n",
       "adventurous impulse        0.044118\n",
       "ripjaw raptor              0.044118\n",
       "heart of kiran             0.014706\n",
       "dtype: float64"
      ]
     },
     "execution_count": 71,
     "metadata": {},
     "output_type": "execute_result"
    }
   ],
   "source": [
    "data.mean()"
   ]
  },
  {
   "cell_type": "code",
   "execution_count": 16,
   "metadata": {
    "collapsed": false
   },
   "outputs": [],
   "source": [
    "# creatures = ['oketra', 'rhonas', 'serpopard', 'pacifist', 'baloth pup', 'mouth', 'croc',\n",
    "# 'exemplar', 'defiant greatmaw', 'glorybound initiate', 'initiates companion',]\n",
    "\n",
    "# removal = ['gideons reproach', 'reprisal', 'declare in stone', 'prepare']\n",
    "\n",
    "# data['creatures_total'] = data[creatures].sum(axis=1)\n",
    "# data['removal_total'] = data[removal].sum(axis=1)"
   ]
  },
  {
   "cell_type": "code",
   "execution_count": 72,
   "metadata": {
    "collapsed": false
   },
   "outputs": [
    {
     "data": {
      "text/plain": [
       "<matplotlib.axes._subplots.AxesSubplot at 0x18d9f38e978>"
      ]
     },
     "execution_count": 72,
     "metadata": {},
     "output_type": "execute_result"
    },
    {
     "data": {
      "image/png": "[encoded data removed]",
      "text/plain": [
       "<matplotlib.figure.Figure at 0x18d9f404f28>"
      ]
     },
     "metadata": {},
     "output_type": "display_data"
    }
   ],
   "source": [
    "meta_stats = ['won', 'life', 'archetype', 'opponents_life', 'deck', 'deck_size', 'computer', 'starting_lands', 'opponents_level']\n",
    "cards = [i for i in data.columns if i not in meta_stats]\n",
    "\n",
    "winning_cards = data[cards].corrwith(data['won'])\n",
    "winning_cards = pd.DataFrame(winning_cards).dropna().sort_values(0, ascending=False)\n",
    "\n",
    "plt.figure(figsize=(1,12))\n",
    "\n",
    "sns.heatmap(winning_cards,\n",
    "           annot=True, cmap='seismic_r', linecolor='black',\n",
    "           linewidths=.25, center=0)"
   ]
  },
  {
   "cell_type": "code",
   "execution_count": 73,
   "metadata": {
    "collapsed": false
   },
   "outputs": [
    {
     "data": {
      "text/html": [
       "<div>\n",
       "<style scoped>\n",
       "    .dataframe tbody tr th:only-of-type {\n",
       "        vertical-align: middle;\n",
       "    }\n",
       "\n",
       "    .dataframe tbody tr th {\n",
       "        vertical-align: top;\n",
       "    }\n",
       "\n",
       "    .dataframe thead th {\n",
       "        text-align: right;\n",
       "    }\n",
       "</style>\n",
       "<table border=\"1\" class=\"dataframe\">\n",
       "  <thead>\n",
       "    <tr style=\"text-align: right;\">\n",
       "      <th></th>\n",
       "      <th>card</th>\n",
       "      <th>corr</th>\n",
       "      <th>pvalue</th>\n",
       "    </tr>\n",
       "  </thead>\n",
       "  <tbody>\n",
       "    <tr>\n",
       "      <th>1</th>\n",
       "      <td>shalai</td>\n",
       "      <td>-0.177393</td>\n",
       "      <td>0.147838</td>\n",
       "    </tr>\n",
       "    <tr>\n",
       "      <th>0</th>\n",
       "      <td>scaled behemoth</td>\n",
       "      <td>-0.177393</td>\n",
       "      <td>0.147838</td>\n",
       "    </tr>\n",
       "  </tbody>\n",
       "</table>\n",
       "</div>"
      ],
      "text/plain": [
       "              card      corr    pvalue\n",
       "1           shalai -0.177393  0.147838\n",
       "0  scaled behemoth -0.177393  0.147838"
      ]
     },
     "execution_count": 73,
     "metadata": {},
     "output_type": "execute_result"
    }
   ],
   "source": [
    "from scipy import stats\n",
    "sleep = []\n",
    "for i in data.select_dtypes(include=[np.number]).drop(['life', 'opponents_life'], axis=1).columns:\n",
    "    c = stats.pearsonr(data['won'], data[i])\n",
    "    if c[1] < .15:\n",
    "        if c[0] < .99:\n",
    "            sleep.append([i, c[0], c[1]])\n",
    "\n",
    "\n",
    "sleep = pd.DataFrame(sleep, columns=['card', 'corr', 'pvalue'])\n",
    "sleep['absol'] = np.abs(sleep['corr'])\n",
    "\n",
    "sleep.sort_values('absol', ascending=False).drop('absol', axis=1)"
   ]
  },
  {
   "cell_type": "code",
   "execution_count": 65,
   "metadata": {
    "collapsed": true
   },
   "outputs": [],
   "source": [
    "cards = [\n",
    "    'drover of the mighty',\n",
    "    'druid of the cowl',\n",
    "    'feral prowler',\n",
    "    'dryad greenseeker',\n",
    "    'greenbelt rampager',\n",
    "    'initiates companion',\n",
    "    'llanowar elves',\n",
    "    'mouth',\n",
    "    'old growth dryads',\n",
    "    'rishkar',\n",
    "    'steel life champion',\n",
    "    'thrashing brontodon',\n",
    "    'vine mare',\n",
    "    'walking ballista',\n",
    "    'aethersphere harvester',\n",
    "    'lifecrafters bestiary',\n",
    "    'skysovereign',\n",
    "    'scrapheap scrounger',\n",
    "    'adventurous impulse',\n",
    "    'blanchwood armor',\n",
    "    'blossoming defense',\n",
    "    'cartouche of strength',\n",
    "    'colossal majesty',\n",
    "    'natures way',\n",
    "    'plummet',\n",
    "    'rabid bite',\n",
    "    'rishkars expertise',\n",
    "    'savage stomp',\n",
    "    'song of freyalise',\n",
    "    'thunderherd migration',\n",
    "    'titanic growth',\n",
    "    'verdant rebirth',\n",
    "    'vivien reid',\n",
    "    'aggressive mamoth',\n",
    "    'ghalta',\n",
    "    'gigantosaurus',\n",
    "    'majestic myriarch',\n",
    "    'rhonas',\n",
    "    'scaled behemoth',\n",
    "    'shalai',\n",
    "    'verdurous gearhulk',\n",
    "]"
   ]
  },
  {
   "cell_type": "code",
   "execution_count": 66,
   "metadata": {
    "collapsed": true
   },
   "outputs": [],
   "source": [
    "combinations = pd.DataFrame()\n",
    "\n",
    "for i in cards:\n",
    "    for j in cards:\n",
    "        if i > j:\n",
    "            combinations[i + ' + ' + j] = data[i] + data[j]"
   ]
  },
  {
   "cell_type": "code",
   "execution_count": 67,
   "metadata": {
    "collapsed": false
   },
   "outputs": [
    {
     "data": {
      "text/html": [
       "<div>\n",
       "<style scoped>\n",
       "    .dataframe tbody tr th:only-of-type {\n",
       "        vertical-align: middle;\n",
       "    }\n",
       "\n",
       "    .dataframe tbody tr th {\n",
       "        vertical-align: top;\n",
       "    }\n",
       "\n",
       "    .dataframe thead th {\n",
       "        text-align: right;\n",
       "    }\n",
       "</style>\n",
       "<table border=\"1\" class=\"dataframe\">\n",
       "  <thead>\n",
       "    <tr style=\"text-align: right;\">\n",
       "      <th></th>\n",
       "      <th>card</th>\n",
       "      <th>corr</th>\n",
       "      <th>pvalue</th>\n",
       "    </tr>\n",
       "  </thead>\n",
       "  <tbody>\n",
       "    <tr>\n",
       "      <th>13</th>\n",
       "      <td>shalai + scaled behemoth</td>\n",
       "      <td>-0.270338</td>\n",
       "      <td>0.026929</td>\n",
       "    </tr>\n",
       "    <tr>\n",
       "      <th>8</th>\n",
       "      <td>verdant rebirth + shalai</td>\n",
       "      <td>-0.235358</td>\n",
       "      <td>0.055205</td>\n",
       "    </tr>\n",
       "    <tr>\n",
       "      <th>4</th>\n",
       "      <td>titanic growth + scaled behemoth</td>\n",
       "      <td>-0.232233</td>\n",
       "      <td>0.058613</td>\n",
       "    </tr>\n",
       "    <tr>\n",
       "      <th>5</th>\n",
       "      <td>titanic growth + shalai</td>\n",
       "      <td>-0.232233</td>\n",
       "      <td>0.058613</td>\n",
       "    </tr>\n",
       "    <tr>\n",
       "      <th>9</th>\n",
       "      <td>scaled behemoth + old growth dryads</td>\n",
       "      <td>-0.223350</td>\n",
       "      <td>0.069244</td>\n",
       "    </tr>\n",
       "    <tr>\n",
       "      <th>0</th>\n",
       "      <td>song of freyalise + scaled behemoth</td>\n",
       "      <td>-0.223350</td>\n",
       "      <td>0.069244</td>\n",
       "    </tr>\n",
       "    <tr>\n",
       "      <th>1</th>\n",
       "      <td>song of freyalise + shalai</td>\n",
       "      <td>-0.223350</td>\n",
       "      <td>0.069244</td>\n",
       "    </tr>\n",
       "    <tr>\n",
       "      <th>11</th>\n",
       "      <td>shalai + old growth dryads</td>\n",
       "      <td>-0.223350</td>\n",
       "      <td>0.069244</td>\n",
       "    </tr>\n",
       "    <tr>\n",
       "      <th>3</th>\n",
       "      <td>titanic growth + blossoming defense</td>\n",
       "      <td>-0.222125</td>\n",
       "      <td>0.070825</td>\n",
       "    </tr>\n",
       "    <tr>\n",
       "      <th>6</th>\n",
       "      <td>verdant rebirth + blossoming defense</td>\n",
       "      <td>-0.218746</td>\n",
       "      <td>0.075334</td>\n",
       "    </tr>\n",
       "    <tr>\n",
       "      <th>10</th>\n",
       "      <td>scaled behemoth + blossoming defense</td>\n",
       "      <td>-0.218465</td>\n",
       "      <td>0.075720</td>\n",
       "    </tr>\n",
       "    <tr>\n",
       "      <th>7</th>\n",
       "      <td>verdant rebirth + scaled behemoth</td>\n",
       "      <td>-0.218128</td>\n",
       "      <td>0.076183</td>\n",
       "    </tr>\n",
       "    <tr>\n",
       "      <th>12</th>\n",
       "      <td>shalai + scrapheap scrounger</td>\n",
       "      <td>-0.213266</td>\n",
       "      <td>0.083131</td>\n",
       "    </tr>\n",
       "    <tr>\n",
       "      <th>2</th>\n",
       "      <td>titanic growth + scrapheap scrounger</td>\n",
       "      <td>-0.207735</td>\n",
       "      <td>0.091634</td>\n",
       "    </tr>\n",
       "  </tbody>\n",
       "</table>\n",
       "</div>"
      ],
      "text/plain": [
       "                                    card      corr    pvalue\n",
       "13              shalai + scaled behemoth -0.270338  0.026929\n",
       "8               verdant rebirth + shalai -0.235358  0.055205\n",
       "4       titanic growth + scaled behemoth -0.232233  0.058613\n",
       "5                titanic growth + shalai -0.232233  0.058613\n",
       "9    scaled behemoth + old growth dryads -0.223350  0.069244\n",
       "0    song of freyalise + scaled behemoth -0.223350  0.069244\n",
       "1             song of freyalise + shalai -0.223350  0.069244\n",
       "11            shalai + old growth dryads -0.223350  0.069244\n",
       "3    titanic growth + blossoming defense -0.222125  0.070825\n",
       "6   verdant rebirth + blossoming defense -0.218746  0.075334\n",
       "10  scaled behemoth + blossoming defense -0.218465  0.075720\n",
       "7      verdant rebirth + scaled behemoth -0.218128  0.076183\n",
       "12          shalai + scrapheap scrounger -0.213266  0.083131\n",
       "2   titanic growth + scrapheap scrounger -0.207735  0.091634"
      ]
     },
     "execution_count": 67,
     "metadata": {},
     "output_type": "execute_result"
    }
   ],
   "source": [
    "from scipy import stats\n",
    "sleep = []\n",
    "for i in combinations.columns:\n",
    "    c = stats.pearsonr(data['won'], combinations[i])\n",
    "    if c[1] < .1:\n",
    "        if c[0] < .99:\n",
    "            sleep.append([i, c[0], c[1]])\n",
    "\n",
    "\n",
    "sleep = pd.DataFrame(sleep, columns=['card', 'corr', 'pvalue'])\n",
    "sleep['absol'] = np.abs(sleep['corr'])\n",
    "\n",
    "sleep.sort_values('absol', ascending=False).drop('absol', axis=1)"
   ]
  },
  {
   "cell_type": "code",
   "execution_count": 17,
   "metadata": {
    "collapsed": true
   },
   "outputs": [],
   "source": [
    "# Machine learning"
   ]
  },
  {
   "cell_type": "code",
   "execution_count": 68,
   "metadata": {
    "collapsed": false
   },
   "outputs": [
    {
     "data": {
      "text/plain": [
       "DecisionTreeClassifier(class_weight=None, criterion='gini', max_depth=19,\n",
       "            max_features=None, max_leaf_nodes=None,\n",
       "            min_impurity_decrease=0.0, min_impurity_split=None,\n",
       "            min_samples_leaf=1, min_samples_split=5,\n",
       "            min_weight_fraction_leaf=0.0, presort=False, random_state=None,\n",
       "            splitter='best')"
      ]
     },
     "execution_count": 68,
     "metadata": {},
     "output_type": "execute_result"
    }
   ],
   "source": [
    "x = data[cards]\n",
    "y = data['won']\n",
    "\n",
    "from sklearn.tree import DecisionTreeClassifier\n",
    "from sklearn.ensemble import GradientBoostingClassifier\n",
    "\n",
    "from sklearn.model_selection import StratifiedKFold, GridSearchCV, cross_val_score\n",
    "\n",
    "kf = StratifiedKFold(n_splits=3)\n",
    "\n",
    "param_grid = {\n",
    "    'max_depth': np.arange(2,21),\n",
    "    'min_samples_leaf': [1,2,3,4,5,10],\n",
    "    'min_samples_split': np.arange(2,6),\n",
    "}\n",
    "\n",
    "clf = DecisionTreeClassifier()\n",
    "\n",
    "grid = GridSearchCV(clf, param_grid=param_grid, cv=kf, scoring='roc_auc').fit(x, y)\n",
    "clf = grid.best_estimator_\n",
    "\n",
    "clf"
   ]
  },
  {
   "cell_type": "code",
   "execution_count": 69,
   "metadata": {
    "collapsed": false
   },
   "outputs": [
    {
     "name": "stdout",
     "output_type": "stream",
     "text": [
      "Mean: 0.457070707070707\n",
      "Std dev: 0.02575262380602418\n"
     ]
    }
   ],
   "source": [
    "cv = cross_val_score(clf, x, y, cv=kf, scoring='roc_auc')\n",
    "\n",
    "print('Mean:', cv.mean())\n",
    "print('Std dev:', cv.std())"
   ]
  },
  {
   "cell_type": "markdown",
   "metadata": {},
   "source": [
    "# Template"
   ]
  },
  {
   "cell_type": "code",
   "execution_count": 62,
   "metadata": {
    "collapsed": true
   },
   "outputs": [],
   "source": [
    "# Timestamp\n",
    "now = len(data)\n",
    "\n",
    "# How close I got to winning\n",
    "data.set_value(now, 'won', )\n",
    "data.set_value(now, 'life', )\n",
    "data.set_value(now, 'opponents_life', )\n",
    "data.set_value(now, 'deck_size', 60)\n",
    "data.set_value(now, 'starting lands', )\n",
    "data.set_value(now, 'land rating', )\n",
    "data.set_value(now, 'archetype', '')\n",
    "\n",
    "# creatures\n",
    "data.set_value(now, 'drover of the mighty', 0)\n",
    "data.set_value(now, 'druid of the cowl', 0)\n",
    "data.set_value(now, 'feral prowler', 0)\n",
    "data.set_value(now, 'dryad greenseeker', 0)\n",
    "data.set_value(now, 'greenbelt rampager', 0)\n",
    "data.set_value(now, 'initiates companion', 0)\n",
    "data.set_value(now, 'llanowar elves', 0)\n",
    "data.set_value(now, 'mouth', 0)\n",
    "data.set_value(now, 'old growth dryads', 0)\n",
    "data.set_value(now, 'rishkar', 0)\n",
    "data.set_value(now, 'ripjaw raptor', 0)\n",
    "data.set_value(now, 'steel life champion', 0)\n",
    "data.set_value(now, 'thrashing brontodon', 0)\n",
    "data.set_value(now, 'vine mare', 0)\n",
    "data.set_value(now, 'walking ballista', 0)\n",
    "\n",
    "# Artifacts\n",
    "data.set_value(now, 'aethersphere harvester', 0)\n",
    "data.set_value(now, 'lifecrafters bestiary', 0)\n",
    "data.set_value(now, 'skysovereign', 0)\n",
    "data.set_value(now, 'scrapheap scrounger', 0)\n",
    "\n",
    "# Spells\n",
    "data.set_value(now, 'adventurous impulse', 0)\n",
    "data.set_value(now, 'blanchwood armor', 0)\n",
    "data.set_value(now, 'blossoming defense', 0)\n",
    "data.set_value(now, 'cartouche of strength', 0)\n",
    "data.set_value(now, 'colossal majesty', 0)\n",
    "data.set_value(now, 'natures way', 0)\n",
    "data.set_value(now, 'plummet', 0)\n",
    "data.set_value(now, 'rabid bite', 0)\n",
    "data.set_value(now, 'rishkars expertise', 0)\n",
    "data.set_value(now, 'savage stomp', 0)\n",
    "data.set_value(now, 'song of freyalise', 0)\n",
    "data.set_value(now, 'thunderherd migration', 0)\n",
    "data.set_value(now, 'titanic growth', 0)\n",
    "\n",
    "data.set_value(now, 'verdant rebirth', 0)\n",
    "data.set_value(now, 'vivien reid', 0)\n",
    "\n",
    "# Big boys\n",
    "data.set_value(now, 'aggressive mamoth', 0)\n",
    "data.set_value(now, 'ghalta', 0)\n",
    "data.set_value(now, 'gigantosaurus', 0)\n",
    "data.set_value(now, 'majestic myriarch', 0)\n",
    "data.set_value(now, 'rhonas', 0)\n",
    "data.set_value(now, 'scaled behemoth', 0)\n",
    "data.set_value(now, 'shalai', 0)\n",
    "data.set_value(now, 'verdurous gearhulk', 0)\n",
    "data = data.fillna(0.)\n",
    "\n",
    "data.to_csv('magic_stompy2018.csv')"
   ]
  },
  {
   "cell_type": "code",
   "execution_count": null,
   "metadata": {
    "collapsed": true
   },
   "outputs": [],
   "source": []
  }
 ],
 "metadata": {
  "anaconda-cloud": {},
  "kernelspec": {
   "display_name": "Python 3",
   "language": "python",
   "name": "python3"
  },
  "language_info": {
   "codemirror_mode": {
    "name": "ipython",
    "version": 3
   },
   "file_extension": ".py",
   "mimetype": "text/x-python",
   "name": "python",
   "nbconvert_exporter": "python",
   "pygments_lexer": "ipython3",
   "version": "3.6.0"
  }
 },
 "nbformat": 4,
 "nbformat_minor": 1
}
