{
 "cells": [
  {
   "cell_type": "code",
   "execution_count": 2,
   "metadata": {
    "collapsed": false,
    "deletable": true,
    "editable": true
   },
   "outputs": [
    {
     "name": "stdout",
     "output_type": "stream",
     "text": [
      "Populating the interactive namespace from numpy and matplotlib\n",
      "Populating the interactive namespace from numpy and matplotlib\n"
     ]
    }
   ],
   "source": [
    "import pandas as pd\n",
    "import numpy as np\n",
    "\n",
    "\n",
    "%pylab inline\n",
    "\n",
    "import pandas as pd\n",
    "import numpy as np\n",
    "import matplotlib.pyplot as plt\n",
    "import datetime\n",
    "import seaborn as sns\n",
    "import time\n",
    "\n",
    "from sklearn.model_selection import train_test_split, cross_val_score, GridSearchCV\n",
    "from sklearn.metrics import roc_auc_score\n",
    "\n",
    "%pylab inline\n",
    "data=None\n",
    "def absolute_correlations(col, df=data):\n",
    "    #absolute_values = np.abs(df[col])\n",
    "    corrs = pd.DataFrame(df.select_dtypes(include=[np.number]).corrwith(df[col]), columns=['correlation'])\n",
    "    corrs['absol'] = np.abs(corrs['correlation'])\n",
    "    return corrs.sort_values('absol', ascending=False).drop('absol', axis=1).tail(len(corrs)-1)\n",
    "\n",
    "def numeric(self):\n",
    "    '''Monkey-patches numeric features'''\n",
    "    return self.select_dtypes(include=[np.number])\n",
    "pd.DataFrame.numeric = numeric"
   ]
  },
  {
   "cell_type": "code",
   "execution_count": 3,
   "metadata": {
    "collapsed": false
   },
   "outputs": [],
   "source": [
    "# data = pd.DataFrame()\n",
    "\n",
    "from warnings import filterwarnings\n",
    "filterwarnings('ignore')"
   ]
  },
  {
   "cell_type": "code",
   "execution_count": 4,
   "metadata": {
    "collapsed": false
   },
   "outputs": [],
   "source": [
    "data = pd.read_csv('magic_stompy2018.csv')\n",
    "data = data[[i for i in data.columns if 'Unnamed' not in i]]\n",
    "\n",
    "meta_stats = ['won', 'life', 'opponents_life', 'deck', 'deck_size', 'computer', 'starting_lands', 'opponents_level']\n",
    "cards = [i for i in data.columns if i not in meta_stats]"
   ]
  },
  {
   "cell_type": "code",
   "execution_count": 52,
   "metadata": {
    "collapsed": false,
    "deletable": true,
    "editable": true
   },
   "outputs": [],
   "source": [
    "# Timestamp\n",
    "now = len(data)\n",
    "\n",
    "# How close I got to winning\n",
    "data.set_value(now, 'won', 1)\n",
    "data.set_value(now, 'life', 7)\n",
    "data.set_value(now, 'opponents_life', 0)\n",
    "data.set_value(now, 'deck_size', 60)\n",
    "data.set_value(now, 'starting lands', 3)\n",
    "data.set_value(now, 'land rating', 3)\n",
    "\n",
    "# creatures\n",
    "data.set_value(now, 'drover of the mighty', 0)\n",
    "data.set_value(now, 'druid of the cowl', 0)\n",
    "data.set_value(now, 'feral prowler', 0)\n",
    "data.set_value(now, 'dryad greenseeker', 0)\n",
    "data.set_value(now, 'greenbelt rampager', 0)\n",
    "data.set_value(now, 'llanowar elves', 0)\n",
    "data.set_value(now, 'mouth', 0)\n",
    "data.set_value(now, 'rishkar', 0)\n",
    "data.set_value(now, 'steel life champion', 1)\n",
    "data.set_value(now, 'thrashing brontodon', 0)\n",
    "data.set_value(now, 'vine mare', 1)\n",
    "data.set_value(now, 'walking ballista', 0)\n",
    "\n",
    "# Artifacts\n",
    "data.set_value(now, 'aethersphere harvester', 0)\n",
    "data.set_value(now, 'lifecrafters bestiary', 0)\n",
    "data.set_value(now, 'skysovereign', 0)\n",
    "data.set_value(now, 'scrapheap scrounger', 0)\n",
    "\n",
    "# Spells\n",
    "data.set_value(now, 'blanchwood armor', 0)\n",
    "data.set_value(now, 'blossoming defense', 0)\n",
    "data.set_value(now, 'cartouche of strength', 1)\n",
    "data.set_value(now, 'colossal majesty', 0)\n",
    "data.set_value(now, 'natures way', 0)\n",
    "data.set_value(now, 'plummet', 0)\n",
    "data.set_value(now, 'rabid bite', 0)\n",
    "data.set_value(now, 'rishkars expertise', 1)\n",
    "data.set_value(now, 'song of freyalise', 0)\n",
    "data.set_value(now, 'titanic growth', 0)\n",
    "data.set_value(now, 'verdant rebirth', 0)\n",
    "data.set_value(now, 'vivien reid', 0)\n",
    "\n",
    "# Big boys\n",
    "data.set_value(now, 'aggressive mamoth', 0)\n",
    "data.set_value(now, 'ghalta', 0)\n",
    "data.set_value(now, 'gigantosaurus', 2)\n",
    "data.set_value(now, 'majestic myriarch', 0)\n",
    "data.set_value(now, 'rhonas', 1)\n",
    "data.set_value(now, 'scaled behemoth', 0)\n",
    "data.set_value(now, 'shalai', 0)\n",
    "data.set_value(now, 'verdurous gearhulk', 0)\n",
    "data = data.fillna(0.)\n",
    "\n",
    "data.to_csv('magic_stompy2018.csv')"
   ]
  },
  {
   "cell_type": "code",
   "execution_count": 53,
   "metadata": {
    "collapsed": false
   },
   "outputs": [
    {
     "data": {
      "text/plain": [
       "won                        0.537037\n",
       "life                       8.287037\n",
       "opponents_life             8.759259\n",
       "deck_size                 60.000000\n",
       "starting lands             2.851852\n",
       "druid of the cowl          0.111111\n",
       "llanowar elves             0.870370\n",
       "steel life champion        0.907407\n",
       "vine mare                  0.759259\n",
       "blanchwood armor           0.092593\n",
       "lifecrafters bestiary      0.277778\n",
       "natures way                0.129630\n",
       "plummet                    0.240741\n",
       "rabid bite                 0.555556\n",
       "titanic growth             0.129630\n",
       "verdant rebirth            0.203704\n",
       "gigantosaurus              0.333333\n",
       "majestic myriarch          0.129630\n",
       "verdurous gearhulk         0.092593\n",
       "scaled behemoth            0.092593\n",
       "ghalta                     0.203704\n",
       "land rating                3.009259\n",
       "walking ballista           0.111111\n",
       "colossal majesty           0.500000\n",
       "aggressive mamoth          0.000000\n",
       "rhonas                     0.333333\n",
       "mouth                      0.000000\n",
       "blossoming defense         0.444444\n",
       "greenbelt rampager         0.037037\n",
       "feral prowler              0.074074\n",
       "thrashing brontodon        0.277778\n",
       "skysovereign               0.074074\n",
       "aethersphere harvester     0.259259\n",
       "song of freyalise          0.018519\n",
       "scrapheap scrounger        0.296296\n",
       "dryad greenseeker          0.240741\n",
       "shalai                     0.092593\n",
       "cartouche of strength      0.111111\n",
       "drover of the mighty       0.055556\n",
       "rishkar                    0.037037\n",
       "vivien reid                0.000000\n",
       "rishkars expertise         0.018519\n",
       "dtype: float64"
      ]
     },
     "execution_count": 53,
     "metadata": {},
     "output_type": "execute_result"
    }
   ],
   "source": [
    "data.mean()"
   ]
  },
  {
   "cell_type": "code",
   "execution_count": 16,
   "metadata": {
    "collapsed": false
   },
   "outputs": [],
   "source": [
    "# creatures = ['oketra', 'rhonas', 'serpopard', 'pacifist', 'baloth pup', 'mouth', 'croc',\n",
    "# 'exemplar', 'defiant greatmaw', 'glorybound initiate', 'initiates companion',]\n",
    "\n",
    "# removal = ['gideons reproach', 'reprisal', 'declare in stone', 'prepare']\n",
    "\n",
    "# data['creatures_total'] = data[creatures].sum(axis=1)\n",
    "# data['removal_total'] = data[removal].sum(axis=1)"
   ]
  },
  {
   "cell_type": "code",
   "execution_count": 54,
   "metadata": {
    "collapsed": false
   },
   "outputs": [
    {
     "data": {
      "text/plain": [
       "<matplotlib.axes._subplots.AxesSubplot at 0x2b1911d37f0>"
      ]
     },
     "execution_count": 54,
     "metadata": {},
     "output_type": "execute_result"
    },
    {
     "data": {
      "image/png": "[encoded data removed]",
      "text/plain": [
       "<matplotlib.figure.Figure at 0x2b191701f28>"
      ]
     },
     "metadata": {},
     "output_type": "display_data"
    }
   ],
   "source": [
    "meta_stats = ['won', 'life', 'opponents_life', 'deck', 'deck_size', 'computer', 'starting_lands', 'opponents_level']\n",
    "cards = [i for i in data.columns if i not in meta_stats]\n",
    "\n",
    "winning_cards = data[cards].corrwith(data['won'])\n",
    "winning_cards = pd.DataFrame(winning_cards).dropna().sort_values(0, ascending=False)\n",
    "\n",
    "plt.figure(figsize=(1,12))\n",
    "\n",
    "sns.heatmap(winning_cards,\n",
    "           annot=True, cmap='seismic_r', linecolor='black',\n",
    "           linewidths=.25, center=0)"
   ]
  },
  {
   "cell_type": "code",
   "execution_count": 55,
   "metadata": {
    "collapsed": false
   },
   "outputs": [
    {
     "data": {
      "text/html": [
       "<div>\n",
       "<style scoped>\n",
       "    .dataframe tbody tr th:only-of-type {\n",
       "        vertical-align: middle;\n",
       "    }\n",
       "\n",
       "    .dataframe tbody tr th {\n",
       "        vertical-align: top;\n",
       "    }\n",
       "\n",
       "    .dataframe thead th {\n",
       "        text-align: right;\n",
       "    }\n",
       "</style>\n",
       "<table border=\"1\" class=\"dataframe\">\n",
       "  <thead>\n",
       "    <tr style=\"text-align: right;\">\n",
       "      <th></th>\n",
       "      <th>card</th>\n",
       "      <th>corr</th>\n",
       "      <th>pvalue</th>\n",
       "    </tr>\n",
       "  </thead>\n",
       "  <tbody>\n",
       "    <tr>\n",
       "      <th>1</th>\n",
       "      <td>ghalta</td>\n",
       "      <td>-0.268102</td>\n",
       "      <td>0.049986</td>\n",
       "    </tr>\n",
       "    <tr>\n",
       "      <th>0</th>\n",
       "      <td>scaled behemoth</td>\n",
       "      <td>-0.215918</td>\n",
       "      <td>0.116857</td>\n",
       "    </tr>\n",
       "    <tr>\n",
       "      <th>3</th>\n",
       "      <td>shalai</td>\n",
       "      <td>-0.215918</td>\n",
       "      <td>0.116857</td>\n",
       "    </tr>\n",
       "    <tr>\n",
       "      <th>2</th>\n",
       "      <td>greenbelt rampager</td>\n",
       "      <td>-0.211224</td>\n",
       "      <td>0.125225</td>\n",
       "    </tr>\n",
       "    <tr>\n",
       "      <th>4</th>\n",
       "      <td>cartouche of strength</td>\n",
       "      <td>0.210090</td>\n",
       "      <td>0.127311</td>\n",
       "    </tr>\n",
       "  </tbody>\n",
       "</table>\n",
       "</div>"
      ],
      "text/plain": [
       "                    card      corr    pvalue\n",
       "1                 ghalta -0.268102  0.049986\n",
       "0        scaled behemoth -0.215918  0.116857\n",
       "3                 shalai -0.215918  0.116857\n",
       "2     greenbelt rampager -0.211224  0.125225\n",
       "4  cartouche of strength  0.210090  0.127311"
      ]
     },
     "execution_count": 55,
     "metadata": {},
     "output_type": "execute_result"
    }
   ],
   "source": [
    "from scipy import stats\n",
    "sleep = []\n",
    "for i in data.select_dtypes(include=[np.number]).drop(['life', 'opponents_life'], axis=1).columns:\n",
    "    c = stats.pearsonr(data['won'], data[i])\n",
    "    if c[1] < .15:\n",
    "        if c[0] < .99:\n",
    "            sleep.append([i, c[0], c[1]])\n",
    "\n",
    "\n",
    "sleep = pd.DataFrame(sleep, columns=['card', 'corr', 'pvalue'])\n",
    "sleep['absol'] = np.abs(sleep['corr'])\n",
    "\n",
    "sleep.sort_values('absol', ascending=False).drop('absol', axis=1)"
   ]
  },
  {
   "cell_type": "code",
   "execution_count": 27,
   "metadata": {
    "collapsed": true
   },
   "outputs": [],
   "source": [
    "combinations = pd.DataFrame()\n",
    "\n",
    "for i in cards:\n",
    "    for j in cards:\n",
    "        if i > j:\n",
    "            combinations[i + ' + ' + j] = data[i] + data[j]"
   ]
  },
  {
   "cell_type": "code",
   "execution_count": 29,
   "metadata": {
    "collapsed": false
   },
   "outputs": [
    {
     "name": "stderr",
     "output_type": "stream",
     "text": [
      "C:\\Users\\Vince\\Anaconda3\\lib\\site-packages\\scipy\\stats\\stats.py:5240: RuntimeWarning: invalid value encountered in less\n",
      "  x = np.where(x < 1.0, x, 1.0)  # if x > 1 then return 1.0\n"
     ]
    },
    {
     "data": {
      "text/html": [
       "<div>\n",
       "<style>\n",
       "    .dataframe thead tr:only-child th {\n",
       "        text-align: right;\n",
       "    }\n",
       "\n",
       "    .dataframe thead th {\n",
       "        text-align: left;\n",
       "    }\n",
       "\n",
       "    .dataframe tbody tr th {\n",
       "        vertical-align: top;\n",
       "    }\n",
       "</style>\n",
       "<table border=\"1\" class=\"dataframe\">\n",
       "  <thead>\n",
       "    <tr style=\"text-align: right;\">\n",
       "      <th></th>\n",
       "      <th>card</th>\n",
       "      <th>corr</th>\n",
       "      <th>pvalue</th>\n",
       "    </tr>\n",
       "  </thead>\n",
       "  <tbody>\n",
       "    <tr>\n",
       "      <th>1</th>\n",
       "      <td>mouth + always watching</td>\n",
       "      <td>-0.400278</td>\n",
       "      <td>0.031427</td>\n",
       "    </tr>\n",
       "    <tr>\n",
       "      <th>10</th>\n",
       "      <td>exemplar + elemental bond</td>\n",
       "      <td>0.394711</td>\n",
       "      <td>0.034092</td>\n",
       "    </tr>\n",
       "    <tr>\n",
       "      <th>0</th>\n",
       "      <td>went first + exemplar</td>\n",
       "      <td>0.383345</td>\n",
       "      <td>0.040098</td>\n",
       "    </tr>\n",
       "    <tr>\n",
       "      <th>9</th>\n",
       "      <td>exemplar + croc</td>\n",
       "      <td>0.379507</td>\n",
       "      <td>0.042307</td>\n",
       "    </tr>\n",
       "    <tr>\n",
       "      <th>7</th>\n",
       "      <td>pacifist + exemplar</td>\n",
       "      <td>0.360273</td>\n",
       "      <td>0.054881</td>\n",
       "    </tr>\n",
       "    <tr>\n",
       "      <th>8</th>\n",
       "      <td>gideons reproach + exemplar</td>\n",
       "      <td>0.359385</td>\n",
       "      <td>0.055525</td>\n",
       "    </tr>\n",
       "    <tr>\n",
       "      <th>2</th>\n",
       "      <td>mouth + declare in stone</td>\n",
       "      <td>-0.357158</td>\n",
       "      <td>0.057168</td>\n",
       "    </tr>\n",
       "    <tr>\n",
       "      <th>5</th>\n",
       "      <td>reprisal + exemplar</td>\n",
       "      <td>0.350230</td>\n",
       "      <td>0.062523</td>\n",
       "    </tr>\n",
       "    <tr>\n",
       "      <th>4</th>\n",
       "      <td>prepare + exemplar</td>\n",
       "      <td>0.341523</td>\n",
       "      <td>0.069799</td>\n",
       "    </tr>\n",
       "    <tr>\n",
       "      <th>3</th>\n",
       "      <td>prepare + mouth</td>\n",
       "      <td>-0.333174</td>\n",
       "      <td>0.077374</td>\n",
       "    </tr>\n",
       "    <tr>\n",
       "      <th>6</th>\n",
       "      <td>declare in stone + always watching</td>\n",
       "      <td>-0.330900</td>\n",
       "      <td>0.079543</td>\n",
       "    </tr>\n",
       "  </tbody>\n",
       "</table>\n",
       "</div>"
      ],
      "text/plain": [
       "                                  card      corr    pvalue\n",
       "1              mouth + always watching -0.400278  0.031427\n",
       "10           exemplar + elemental bond  0.394711  0.034092\n",
       "0                went first + exemplar  0.383345  0.040098\n",
       "9                      exemplar + croc  0.379507  0.042307\n",
       "7                  pacifist + exemplar  0.360273  0.054881\n",
       "8          gideons reproach + exemplar  0.359385  0.055525\n",
       "2             mouth + declare in stone -0.357158  0.057168\n",
       "5                  reprisal + exemplar  0.350230  0.062523\n",
       "4                   prepare + exemplar  0.341523  0.069799\n",
       "3                      prepare + mouth -0.333174  0.077374\n",
       "6   declare in stone + always watching -0.330900  0.079543"
      ]
     },
     "execution_count": 29,
     "metadata": {},
     "output_type": "execute_result"
    }
   ],
   "source": [
    "from scipy import stats\n",
    "sleep = []\n",
    "for i in combinations.columns:\n",
    "    c = stats.pearsonr(data['won'], combinations[i])\n",
    "    if c[1] < .1:\n",
    "        if c[0] < .99:\n",
    "            sleep.append([i, c[0], c[1]])\n",
    "\n",
    "\n",
    "sleep = pd.DataFrame(sleep, columns=['card', 'corr', 'pvalue'])\n",
    "sleep['absol'] = np.abs(sleep['corr'])\n",
    "\n",
    "sleep.sort_values('absol', ascending=False).drop('absol', axis=1)"
   ]
  },
  {
   "cell_type": "code",
   "execution_count": null,
   "metadata": {
    "collapsed": true
   },
   "outputs": [],
   "source": [
    "# Timestamp\n",
    "now = len(data)\n",
    "\n",
    "# How close I got to winning\n",
    "data.set_value(now, 'won', )\n",
    "data.set_value(now, 'life', )\n",
    "data.set_value(now, 'opponents_life', )\n",
    "data.set_value(now, 'deck_size', 60)\n",
    "data.set_value(now, 'starting lands', )\n",
    "data.set_value(now, 'land rating', )\n",
    "\n",
    "# creatures\n",
    "data.set_value(now, 'drover of the mighty', 0)\n",
    "data.set_value(now, 'druid of the cowl', 0)\n",
    "data.set_value(now, 'feral prowler', 0)\n",
    "data.set_value(now, 'dryad greenseeker', 0)\n",
    "data.set_value(now, 'greenbelt rampager', 0)\n",
    "data.set_value(now, 'llanowar elves', 0)\n",
    "data.set_value(now, 'mouth', 0)\n",
    "data.set_value(now, 'rishkar', 0)\n",
    "data.set_value(now, 'steel life champion', 0)\n",
    "data.set_value(now, 'thrashing brontodon', 0)\n",
    "data.set_value(now, 'vine mare', 0)\n",
    "data.set_value(now, 'walking ballista', 0)\n",
    "\n",
    "# Artifacts\n",
    "data.set_value(now, 'aethersphere harvester', 0)\n",
    "data.set_value(now, 'lifecrafters bestiary', 0)\n",
    "data.set_value(now, 'skysovereign', 0)\n",
    "data.set_value(now, 'scrapheap scrounger', 0)\n",
    "\n",
    "# Spells\n",
    "data.set_value(now, 'blanchwood armor', 0)\n",
    "data.set_value(now, 'blossoming defense', 0)\n",
    "data.set_value(now, 'cartouche of strength', 0)\n",
    "data.set_value(now, 'colossal majesty', 0)\n",
    "data.set_value(now, 'natures way', 0)\n",
    "data.set_value(now, 'plummet', 0)\n",
    "data.set_value(now, 'rabid bite', 0)\n",
    "data.set_value(now, 'song of freyalise', 0)\n",
    "data.set_value(now, 'titanic growth', 0)\n",
    "data.set_value(now, 'verdant rebirth', 0)\n",
    "data.set_value(now, 'vivien reid', 0)\n",
    "\n",
    "# Big boys\n",
    "data.set_value(now, 'aggressive mamoth', 0)\n",
    "data.set_value(now, 'ghalta', 0)\n",
    "data.set_value(now, 'gigantosaurus', 0)\n",
    "data.set_value(now, 'majestic myriarch', 0)\n",
    "data.set_value(now, 'rhonas', 0)\n",
    "data.set_value(now, 'scaled behemoth', 0)\n",
    "data.set_value(now, 'shalai', 0)\n",
    "data.set_value(now, 'verdurous gearhulk', 0)\n",
    "data = data.fillna(0.)\n",
    "\n",
    "data.to_csv('magic_stompy2018.csv')"
   ]
  }
 ],
 "metadata": {
  "anaconda-cloud": {},
  "kernelspec": {
   "display_name": "Python 3",
   "language": "python",
   "name": "python3"
  },
  "language_info": {
   "codemirror_mode": {
    "name": "ipython",
    "version": 3
   },
   "file_extension": ".py",
   "mimetype": "text/x-python",
   "name": "python",
   "nbconvert_exporter": "python",
   "pygments_lexer": "ipython3",
   "version": "3.6.0"
  }
 },
 "nbformat": 4,
 "nbformat_minor": 1
}
